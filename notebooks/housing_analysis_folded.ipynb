{
 "cells": [
  {
   "cell_type": "markdown",
   "metadata": {
    "janus": {
     "all_versions_showing": false,
     "cell_hidden": false,
     "current_version": 0,
     "id": "c782291b810b3",
     "named_versions": [],
     "output_hidden": false,
     "show_versions": false,
     "source_hidden": false,
     "versions": []
    }
   },
   "source": [
    "# Housing Prices in Major Cities on the West Coast\n",
    "\n",
    "This notebook compares housing prices in major cities on the West Coast using data from Zillow. \n",
    "\n",
    "### Next Steps\n",
    "I would appreciate if you could do the following as quickly as possible. You should be able to reuse code in this notebook.\n",
    "1. Get the unique name / id that the data uses for San Jose, CA\n",
    "2. Plot Rental prices and Home prices for San Jose, CA\n",
    "3. Coorelate changes in San Jose Rental and Home prices to those in the five other major West Coast cities."
   ]
  },
  {
   "cell_type": "code",
   "execution_count": 1,
   "metadata": {
    "collapsed": true,
    "janus": {
     "all_versions_showing": false,
     "cell_hidden": true,
     "current_version": 0,
     "id": "4518df10c9faa",
     "named_versions": [],
     "output_hidden": true,
     "show_versions": false,
     "source_hidden": true,
     "versions": []
    }
   },
   "outputs": [],
   "source": [
    "import os\n",
    "import pandas as pd\n",
    "import numpy as np\n",
    "import matplotlib.pyplot as plt\n",
    "import seaborn as sns\n",
    "\n",
    "%matplotlib inline"
   ]
  },
  {
   "cell_type": "code",
   "execution_count": 2,
   "metadata": {
    "collapsed": true,
    "janus": {
     "all_versions_showing": false,
     "cell_hidden": true,
     "current_version": 0,
     "id": "c4603ae0970cb",
     "named_versions": [],
     "output_hidden": true,
     "show_versions": false,
     "source_hidden": true,
     "versions": []
    }
   },
   "outputs": [],
   "source": [
    "# import data, starting with just the city data\n",
    "df_data_dict = pd.read_csv('data/data_dictionary.csv', encoding = 'latin1')\n",
    "df_city_prices = pd.read_csv('data/city_time_series.csv')\n",
    "df_city_ids = pd.read_csv('data/cities_crosswalk.csv')"
   ]
  },
  {
   "cell_type": "code",
   "execution_count": 3,
   "metadata": {
    "janus": {
     "all_versions_showing": false,
     "cell_hidden": true,
     "current_version": 0,
     "id": "1b6dab3ec27cb",
     "named_versions": [],
     "output_hidden": true,
     "show_versions": false,
     "source_hidden": true,
     "versions": []
    }
   },
   "outputs": [
    {
     "name": "stdout",
     "output_type": "stream",
     "text": [
      "Data Dict shape 30 x 2\n",
      "City Time Series shape 3762566 x 81\n",
      "City Index shape 25341 x 4\n"
     ]
    }
   ],
   "source": [
    "print('Data Dict shape %s x %s' % (df_data_dict.shape[0], df_data_dict.shape[1]))\n",
    "print('City Time Series shape %s x %s' % (df_city_prices.shape[0], df_city_prices.shape[1]))\n",
    "print('City Index shape %s x %s' % (df_city_ids.shape[0], df_city_ids.shape[1]))"
   ]
  },
  {
   "cell_type": "markdown",
   "metadata": {
    "janus": {
     "all_versions_showing": false,
     "cell_hidden": true,
     "current_version": 0,
     "id": "f26269a1a0384",
     "named_versions": [],
     "output_hidden": true,
     "show_versions": false,
     "source_hidden": true,
     "versions": []
    }
   },
   "source": [
    "There is a lot of data in the City table. Let's see how many cities there are."
   ]
  },
  {
   "cell_type": "code",
   "execution_count": 4,
   "metadata": {
    "janus": {
     "all_versions_showing": false,
     "cell_hidden": true,
     "current_version": 0,
     "id": "83d096dfe7659",
     "named_versions": [],
     "output_hidden": true,
     "show_versions": false,
     "source_hidden": true,
     "versions": []
    }
   },
   "outputs": [
    {
     "data": {
      "text/plain": [
       "16636"
      ]
     },
     "execution_count": 4,
     "metadata": {},
     "output_type": "execute_result"
    }
   ],
   "source": [
    "len(df_city_prices['RegionName'].value_counts())"
   ]
  },
  {
   "cell_type": "markdown",
   "metadata": {
    "janus": {
     "all_versions_showing": false,
     "cell_hidden": false,
     "current_version": 0,
     "id": "2c700dea6f8fc",
     "named_versions": [],
     "output_hidden": false,
     "show_versions": false,
     "source_hidden": false,
     "versions": []
    }
   },
   "source": [
    "That are over 16,000 cities in the dataset. Let's see how many are on the west coast."
   ]
  },
  {
   "cell_type": "code",
   "execution_count": 5,
   "metadata": {
    "janus": {
     "all_versions_showing": false,
     "cell_hidden": true,
     "current_version": 0,
     "id": "06d5d5ac41471",
     "named_versions": [],
     "output_hidden": true,
     "show_versions": false,
     "source_hidden": true,
     "versions": []
    }
   },
   "outputs": [
    {
     "data": {
      "text/plain": [
       "1335"
      ]
     },
     "execution_count": 5,
     "metadata": {},
     "output_type": "execute_result"
    }
   ],
   "source": [
    "# get city ids for cities in western states\n",
    "western_states = ['CA', 'OR', 'WA']\n",
    "df_west_city_ids = df_city_ids[df_city_ids['State'].isin(western_states)]\n",
    "western_ids = df_west_city_ids['Unique_City_ID']\n",
    "\n",
    "# find how many are in our dataset\n",
    "len(df_city_prices[df_city_prices['RegionName'].isin(western_ids)]['RegionName'].value_counts())"
   ]
  },
  {
   "cell_type": "markdown",
   "metadata": {
    "janus": {
     "all_versions_showing": false,
     "cell_hidden": true,
     "current_version": 0,
     "id": "40376c3c439ac",
     "named_versions": [],
     "output_hidden": true,
     "show_versions": false,
     "source_hidden": true,
     "versions": []
    }
   },
   "source": [
    "That still leaves us with over 1000 cities. We may want to come back to those, but for now, let's look at just the major West Coast cities."
   ]
  },
  {
   "cell_type": "markdown",
   "metadata": {
    "janus": {
     "all_versions_showing": false,
     "cell_hidden": false,
     "current_version": 0,
     "id": "4effc5a3bb44f",
     "named_versions": [],
     "output_hidden": false,
     "show_versions": false,
     "source_hidden": false,
     "versions": []
    }
   },
   "source": [
    "There are 1335 cities in CA, OR, and WA. That is more than we want to analyze, at least for now. Let's start with a hand-picked list of five major cities in the west."
   ]
  },
  {
   "cell_type": "code",
   "execution_count": 6,
   "metadata": {
    "collapsed": true,
    "janus": {
     "all_versions_showing": false,
     "cell_hidden": true,
     "current_version": 0,
     "id": "f61cc4a42239",
     "named_versions": [],
     "output_hidden": true,
     "show_versions": false,
     "source_hidden": true,
     "versions": []
    }
   },
   "outputs": [],
   "source": [
    "def get_city_id(city, state):\n",
    "    \n",
    "    # get the unique id for a particular city\n",
    "    matches = df_city_ids[(df_city_ids['City'] == city) & (df_city_ids['State'] == state)]\n",
    "    \n",
    "    # return the first match\n",
    "    if matches.shape[0] > 0:\n",
    "        return matches.iloc[0]['Unique_City_ID']\n",
    "    else:\n",
    "        return None"
   ]
  },
  {
   "cell_type": "code",
   "execution_count": 7,
   "metadata": {
    "janus": {
     "all_versions_showing": false,
     "cell_hidden": true,
     "current_version": 0,
     "id": "a794b6340411d",
     "named_versions": [],
     "output_hidden": true,
     "show_versions": false,
     "source_hidden": true,
     "versions": []
    }
   },
   "outputs": [
    {
     "data": {
      "text/plain": [
       "['seattlekingwa',\n",
       " 'portlandmultnomahor',\n",
       " 'san_franciscosan_franciscoca',\n",
       " 'los_angeleslos_angelesca',\n",
       " 'san_diegosan_diegoca']"
      ]
     },
     "execution_count": 7,
     "metadata": {},
     "output_type": "execute_result"
    }
   ],
   "source": [
    "# get the ids for certain cities\n",
    "west_coast_cities = [\n",
    "    ['Seattle', 'WA'],\n",
    "    ['Portland', 'OR'],\n",
    "    ['San Francisco', 'CA'],\n",
    "    ['Los Angeles', 'CA'],\n",
    "    ['San Diego', 'CA']\n",
    "]\n",
    "\n",
    "west_coast_city_ids = []\n",
    "\n",
    "for c in west_coast_cities:\n",
    "    cid = get_city_id(c[0], c[1])\n",
    "    if cid:\n",
    "        west_coast_city_ids.append(cid)\n",
    "        \n",
    "west_coast_city_ids"
   ]
  },
  {
   "cell_type": "markdown",
   "metadata": {
    "janus": {
     "all_versions_showing": false,
     "cell_hidden": false,
     "current_version": 0,
     "id": "f62d05410212d",
     "named_versions": [],
     "output_hidden": false,
     "show_versions": false,
     "source_hidden": false,
     "versions": []
    }
   },
   "source": [
    "Now we can reduce our dataset to only rows for the cities we care about. \n",
    "\n",
    "While we are at it, let's convert the Date column to an actual Date object rather than just a string."
   ]
  },
  {
   "cell_type": "code",
   "execution_count": 8,
   "metadata": {
    "janus": {
     "all_versions_showing": false,
     "cell_hidden": true,
     "current_version": 0,
     "id": "3c807e12dbef8",
     "named_versions": [],
     "output_hidden": true,
     "show_versions": false,
     "source_hidden": true,
     "versions": []
    }
   },
   "outputs": [
    {
     "data": {
      "text/plain": [
       "RegionName\n",
       "los_angeleslos_angelesca        261\n",
       "portlandmultnomahor             261\n",
       "san_diegosan_diegoca            261\n",
       "san_franciscosan_franciscoca    261\n",
       "seattlekingwa                   261\n",
       "Name: RegionName, dtype: int64"
      ]
     },
     "execution_count": 8,
     "metadata": {},
     "output_type": "execute_result"
    }
   ],
   "source": [
    "df_west_coast_prices = df_city_prices[df_city_prices['RegionName'].isin(west_coast_city_ids)]\n",
    "df_west_coast_prices.groupby('RegionName')['RegionName'].count()"
   ]
  },
  {
   "cell_type": "code",
   "execution_count": 9,
   "metadata": {
    "collapsed": true,
    "janus": {
     "all_versions_showing": false,
     "cell_hidden": true,
     "current_version": 0,
     "id": "d79f43c510f7f",
     "named_versions": [],
     "output_hidden": true,
     "show_versions": false,
     "source_hidden": true,
     "versions": []
    }
   },
   "outputs": [],
   "source": [
    "def convert_to_datetime(series):\n",
    "    return pd.to_datetime(series, infer_datetime_format=True)"
   ]
  },
  {
   "cell_type": "code",
   "execution_count": 10,
   "metadata": {
    "janus": {
     "all_versions_showing": false,
     "cell_hidden": true,
     "current_version": 0,
     "id": "0e1c9c0cee431",
     "named_versions": [],
     "output_hidden": true,
     "show_versions": false,
     "source_hidden": true,
     "versions": []
    }
   },
   "outputs": [
    {
     "name": "stderr",
     "output_type": "stream",
     "text": [
      "/Users/adam/anaconda/lib/python3.6/site-packages/ipykernel_launcher.py:1: SettingWithCopyWarning: \n",
      "A value is trying to be set on a copy of a slice from a DataFrame.\n",
      "Try using .loc[row_indexer,col_indexer] = value instead\n",
      "\n",
      "See the caveats in the documentation: http://pandas.pydata.org/pandas-docs/stable/indexing.html#indexing-view-versus-copy\n",
      "  \"\"\"Entry point for launching an IPython kernel.\n"
     ]
    }
   ],
   "source": [
    "df_west_coast_prices['Date'] = pd.to_datetime(df_west_coast_prices['Date'])"
   ]
  },
  {
   "cell_type": "markdown",
   "metadata": {
    "janus": {
     "all_versions_showing": false,
     "cell_hidden": false,
     "current_version": 0,
     "id": "8c4d604590243",
     "named_versions": [],
     "output_hidden": false,
     "show_versions": false,
     "source_hidden": false,
     "versions": []
    }
   },
   "source": [
    "Now let's see what kind of data we can use for the comparison."
   ]
  },
  {
   "cell_type": "code",
   "execution_count": 11,
   "metadata": {
    "janus": {
     "all_versions_showing": false,
     "cell_hidden": true,
     "current_version": 0,
     "id": "ced9566149d95",
     "named_versions": [],
     "output_hidden": true,
     "show_versions": false,
     "source_hidden": true,
     "versions": []
    }
   },
   "outputs": [
    {
     "name": "stdout",
     "output_type": "stream",
     "text": [
      "3762566 variables in our dataset\n"
     ]
    },
    {
     "data": {
      "text/plain": [
       "Index(['Date', 'RegionName', 'InventorySeasonallyAdjusted_AllHomes',\n",
       "       'InventoryRaw_AllHomes', 'MedianListingPricePerSqft_1Bedroom',\n",
       "       'MedianListingPricePerSqft_2Bedroom',\n",
       "       'MedianListingPricePerSqft_3Bedroom',\n",
       "       'MedianListingPricePerSqft_4Bedroom',\n",
       "       'MedianListingPricePerSqft_5BedroomOrMore',\n",
       "       'MedianListingPricePerSqft_AllHomes',\n",
       "       'MedianListingPricePerSqft_CondoCoop',\n",
       "       'MedianListingPricePerSqft_DuplexTriplex',\n",
       "       'MedianListingPricePerSqft_SingleFamilyResidence',\n",
       "       'MedianListingPrice_1Bedroom', 'MedianListingPrice_2Bedroom',\n",
       "       'MedianListingPrice_3Bedroom', 'MedianListingPrice_4Bedroom',\n",
       "       'MedianListingPrice_5BedroomOrMore', 'MedianListingPrice_AllHomes',\n",
       "       'MedianListingPrice_CondoCoop', 'MedianListingPrice_DuplexTriplex',\n",
       "       'MedianListingPrice_SingleFamilyResidence',\n",
       "       'MedianPctOfPriceReduction_AllHomes',\n",
       "       'MedianPctOfPriceReduction_CondoCoop',\n",
       "       'MedianPctOfPriceReduction_SingleFamilyResidence',\n",
       "       'MedianPriceCutDollar_AllHomes', 'MedianPriceCutDollar_CondoCoop',\n",
       "       'MedianPriceCutDollar_SingleFamilyResidence',\n",
       "       'MedianRentalPricePerSqft_1Bedroom',\n",
       "       'MedianRentalPricePerSqft_2Bedroom',\n",
       "       'MedianRentalPricePerSqft_3Bedroom',\n",
       "       'MedianRentalPricePerSqft_4Bedroom',\n",
       "       'MedianRentalPricePerSqft_5BedroomOrMore',\n",
       "       'MedianRentalPricePerSqft_AllHomes',\n",
       "       'MedianRentalPricePerSqft_CondoCoop',\n",
       "       'MedianRentalPricePerSqft_DuplexTriplex',\n",
       "       'MedianRentalPricePerSqft_MultiFamilyResidence5PlusUnits',\n",
       "       'MedianRentalPricePerSqft_SingleFamilyResidence',\n",
       "       'MedianRentalPricePerSqft_Studio', 'MedianRentalPrice_1Bedroom',\n",
       "       'MedianRentalPrice_2Bedroom', 'MedianRentalPrice_3Bedroom',\n",
       "       'MedianRentalPrice_4Bedroom', 'MedianRentalPrice_5BedroomOrMore',\n",
       "       'MedianRentalPrice_AllHomes', 'MedianRentalPrice_CondoCoop',\n",
       "       'MedianRentalPrice_DuplexTriplex',\n",
       "       'MedianRentalPrice_MultiFamilyResidence5PlusUnits',\n",
       "       'MedianRentalPrice_SingleFamilyResidence', 'MedianRentalPrice_Studio',\n",
       "       'ZHVIPerSqft_AllHomes', 'PctOfHomesDecreasingInValues_AllHomes',\n",
       "       'PctOfHomesIncreasingInValues_AllHomes',\n",
       "       'PctOfHomesSellingForGain_AllHomes',\n",
       "       'PctOfHomesSellingForLoss_AllHomes',\n",
       "       'PctOfListingsWithPriceReductionsSeasAdj_AllHomes',\n",
       "       'PctOfListingsWithPriceReductionsSeasAdj_CondoCoop',\n",
       "       'PctOfListingsWithPriceReductionsSeasAdj_SingleFamilyResidence',\n",
       "       'PctOfListingsWithPriceReductions_AllHomes',\n",
       "       'PctOfListingsWithPriceReductions_CondoCoop',\n",
       "       'PctOfListingsWithPriceReductions_SingleFamilyResidence',\n",
       "       'PriceToRentRatio_AllHomes', 'Sale_Counts', 'Sale_Counts_Seas_Adj',\n",
       "       'Sale_Prices', 'ZHVI_1bedroom', 'ZHVI_2bedroom', 'ZHVI_3bedroom',\n",
       "       'ZHVI_4bedroom', 'ZHVI_5BedroomOrMore', 'ZHVI_AllHomes',\n",
       "       'ZHVI_BottomTier', 'ZHVI_CondoCoop', 'ZHVI_MiddleTier',\n",
       "       'ZHVI_SingleFamilyResidence', 'ZHVI_TopTier', 'ZRI_AllHomes',\n",
       "       'ZRI_AllHomesPlusMultifamily', 'ZriPerSqft_AllHomes',\n",
       "       'Zri_MultiFamilyResidenceRental', 'Zri_SingleFamilyResidenceRental'],\n",
       "      dtype='object')"
      ]
     },
     "execution_count": 11,
     "metadata": {},
     "output_type": "execute_result"
    }
   ],
   "source": [
    "print(\"%s variables in our dataset\" % df_city_prices.shape[0])\n",
    "df_city_prices.columns"
   ]
  },
  {
   "cell_type": "code",
   "execution_count": 12,
   "metadata": {
    "janus": {
     "all_versions_showing": false,
     "cell_hidden": true,
     "current_version": 0,
     "id": "4059dee6a8c85",
     "named_versions": [],
     "output_hidden": true,
     "show_versions": false,
     "source_hidden": true,
     "versions": []
    }
   },
   "outputs": [
    {
     "name": "stdout",
     "output_type": "stream",
     "text": [
      "30 variables with a definition\n"
     ]
    },
    {
     "data": {
      "text/html": [
       "<div>\n",
       "<style>\n",
       "    .dataframe thead tr:only-child th {\n",
       "        text-align: right;\n",
       "    }\n",
       "\n",
       "    .dataframe thead th {\n",
       "        text-align: left;\n",
       "    }\n",
       "\n",
       "    .dataframe tbody tr th {\n",
       "        vertical-align: top;\n",
       "    }\n",
       "</style>\n",
       "<table border=\"1\" class=\"dataframe\">\n",
       "  <thead>\n",
       "    <tr style=\"text-align: right;\">\n",
       "      <th></th>\n",
       "      <th>Variable</th>\n",
       "      <th>Definition</th>\n",
       "    </tr>\n",
       "  </thead>\n",
       "  <tbody>\n",
       "    <tr>\n",
       "      <th>0</th>\n",
       "      <td>AgeOfInventory</td>\n",
       "      <td>Each Wednesday, age of inventory is calculated...</td>\n",
       "    </tr>\n",
       "    <tr>\n",
       "      <th>1</th>\n",
       "      <td>DaysOnZillow</td>\n",
       "      <td>The median days on market of homes sold within...</td>\n",
       "    </tr>\n",
       "    <tr>\n",
       "      <th>2</th>\n",
       "      <td>HomesSoldAsForeclosuresRatio</td>\n",
       "      <td>The number of homes (per 10,000 homes) that we...</td>\n",
       "    </tr>\n",
       "    <tr>\n",
       "      <th>3</th>\n",
       "      <td>InventorySeasonallyAdjusted</td>\n",
       "      <td>A seasonally adjusted measure of the median of...</td>\n",
       "    </tr>\n",
       "    <tr>\n",
       "      <th>4</th>\n",
       "      <td>InventoryRaw</td>\n",
       "      <td>Median of weekly snapshot of for-sale homes wi...</td>\n",
       "    </tr>\n",
       "  </tbody>\n",
       "</table>\n",
       "</div>"
      ],
      "text/plain": [
       "                       Variable  \\\n",
       "0                AgeOfInventory   \n",
       "1                  DaysOnZillow   \n",
       "2  HomesSoldAsForeclosuresRatio   \n",
       "3   InventorySeasonallyAdjusted   \n",
       "4                  InventoryRaw   \n",
       "\n",
       "                                          Definition  \n",
       "0  Each Wednesday, age of inventory is calculated...  \n",
       "1  The median days on market of homes sold within...  \n",
       "2  The number of homes (per 10,000 homes) that we...  \n",
       "3  A seasonally adjusted measure of the median of...  \n",
       "4  Median of weekly snapshot of for-sale homes wi...  "
      ]
     },
     "execution_count": 12,
     "metadata": {},
     "output_type": "execute_result"
    }
   ],
   "source": [
    "print(\"%s variables with a definition\" % df_data_dict.shape[0])\n",
    "df_data_dict.head()"
   ]
  },
  {
   "cell_type": "markdown",
   "metadata": {
    "janus": {
     "all_versions_showing": false,
     "cell_hidden": true,
     "current_version": 0,
     "id": "afec039f498bf",
     "named_versions": [],
     "output_hidden": true,
     "show_versions": false,
     "source_hidden": true,
     "versions": []
    }
   },
   "source": [
    "That is a lot of variables, and we don't seem to have a defenition for each of them (81 variables, but only 30 definitions). Instead of looking through the data dictionary by hand, let's make it easier to find the definition of different variables."
   ]
  },
  {
   "cell_type": "code",
   "execution_count": 13,
   "metadata": {
    "collapsed": true,
    "janus": {
     "all_versions_showing": false,
     "cell_hidden": true,
     "current_version": 0,
     "id": "c4211cb78fc1c",
     "named_versions": [],
     "output_hidden": true,
     "show_versions": false,
     "source_hidden": true,
     "versions": []
    }
   },
   "outputs": [],
   "source": [
    "def get_variable_def(variable):\n",
    "    matched_vars = df_data_dict[df_data_dict['Variable'] == variable]\n",
    "    if matched_vars.shape[0] > 0:\n",
    "        return matched_vars.iloc[0]['Definition']\n",
    "    else:\n",
    "        return \"No Definition Found\""
   ]
  },
  {
   "cell_type": "code",
   "execution_count": 14,
   "metadata": {
    "janus": {
     "all_versions_showing": false,
     "cell_hidden": true,
     "current_version": 0,
     "id": "31a54b2da00d2",
     "named_versions": [],
     "output_hidden": true,
     "show_versions": false,
     "source_hidden": true,
     "versions": []
    }
   },
   "outputs": [
    {
     "data": {
      "text/plain": [
       "'A smoothed seasonally adjusted measure of the median estimated home value across a given region and housing type'"
      ]
     },
     "execution_count": 14,
     "metadata": {},
     "output_type": "execute_result"
    }
   ],
   "source": [
    "get_variable_def('ZHVI')"
   ]
  },
  {
   "cell_type": "code",
   "execution_count": 15,
   "metadata": {
    "janus": {
     "all_versions_showing": false,
     "cell_hidden": true,
     "current_version": 0,
     "id": "93d1f8e4481ed",
     "named_versions": [],
     "output_hidden": true,
     "show_versions": false,
     "source_hidden": true,
     "versions": []
    },
    "scrolled": true
   },
   "outputs": [
    {
     "data": {
      "text/plain": [
       "'A smoothed seasonally adjusted measure of the median estimated market rate rent across a given region and housing type'"
      ]
     },
     "execution_count": 15,
     "metadata": {},
     "output_type": "execute_result"
    }
   ],
   "source": [
    "get_variable_def('ZRI')"
   ]
  },
  {
   "cell_type": "markdown",
   "metadata": {
    "janus": {
     "all_versions_showing": false,
     "cell_hidden": false,
     "current_version": 0,
     "id": "84e853109b01a",
     "named_versions": [],
     "output_hidden": false,
     "show_versions": false,
     "source_hidden": false,
     "versions": []
    }
   },
   "source": [
    "Let's start by looking at Home Values (ZHVI) and Rental Prices (ZRI) in the five major cities. Note that the vairable names in the dataframe are actually ZHVI_AllHomes and ZRI_AllHomes."
   ]
  },
  {
   "cell_type": "code",
   "execution_count": 16,
   "metadata": {
    "collapsed": true,
    "janus": {
     "all_versions_showing": false,
     "cell_hidden": true,
     "current_version": 0,
     "id": "2673ca0a2ef53",
     "named_versions": [],
     "output_hidden": true,
     "show_versions": false,
     "source_hidden": true,
     "versions": []
    }
   },
   "outputs": [],
   "source": [
    "def plot_metric(city, state, metric, df):\n",
    "    city_id = get_city_id(city, state)\n",
    "    df_c = df[df['RegionName'] == city_id]\n",
    "    \n",
    "    if df_c.shape[0] == 0:\n",
    "        print('No data for %s, %s' % (city, state))\n",
    "        \n",
    "    else:\n",
    "        plt.xlabel('Date')\n",
    "        plt.ylabel(metric)\n",
    "        plt.title(city + ' - ' + metric)\n",
    "        plt.plot(df_c['Date'], df_c[metric])"
   ]
  },
  {
   "cell_type": "markdown",
   "metadata": {
    "janus": {
     "all_versions_showing": false,
     "cell_hidden": false,
     "current_version": 0,
     "id": "0994b033de06c",
     "named_versions": [],
     "output_hidden": false,
     "show_versions": false,
     "source_hidden": false,
     "versions": []
    }
   },
   "source": [
    "### Rental Prices over Time"
   ]
  },
  {
   "cell_type": "code",
   "execution_count": 17,
   "metadata": {
    "janus": {
     "all_versions_showing": false,
     "cell_hidden": true,
     "current_version": 0,
     "id": "e6ea9729499a8",
     "named_versions": [],
     "output_hidden": true,
     "show_versions": false,
     "source_hidden": true,
     "versions": []
    }
   },
   "outputs": [
    {
     "data": {
      "image/png": "[encoded data removed]",
      "text/plain": [
       "<matplotlib.figure.Figure at 0x114e6cbe0>"
      ]
     },
     "metadata": {},
     "output_type": "display_data"
    }
   ],
   "source": [
    "plot_metric('Seattle', 'WA', 'ZRI_AllHomes', df_west_coast_prices)"
   ]
  },
  {
   "cell_type": "code",
   "execution_count": 18,
   "metadata": {
    "janus": {
     "all_versions_showing": false,
     "cell_hidden": true,
     "current_version": 0,
     "id": "af84b6cb439f3",
     "named_versions": [],
     "output_hidden": true,
     "show_versions": false,
     "source_hidden": true,
     "versions": []
    }
   },
   "outputs": [
    {
     "data": {
      "image/png": "[encoded data removed]",
      "text/plain": [
       "<matplotlib.figure.Figure at 0x114e20390>"
      ]
     },
     "metadata": {},
     "output_type": "display_data"
    }
   ],
   "source": [
    "plot_metric('Portland', 'OR', 'ZRI_AllHomes', df_west_coast_prices)"
   ]
  },
  {
   "cell_type": "code",
   "execution_count": 19,
   "metadata": {
    "janus": {
     "all_versions_showing": false,
     "cell_hidden": true,
     "current_version": 0,
     "id": "5af86f45c1d2f",
     "named_versions": [],
     "output_hidden": true,
     "show_versions": false,
     "source_hidden": true,
     "versions": []
    }
   },
   "outputs": [
    {
     "data": {
      "image/png": "[encoded data removed]",
      "text/plain": [
       "<matplotlib.figure.Figure at 0x1142d6d68>"
      ]
     },
     "metadata": {},
     "output_type": "display_data"
    }
   ],
   "source": [
    "plot_metric('San Francisco', 'CA', 'ZRI_AllHomes', df_west_coast_prices)"
   ]
  },
  {
   "cell_type": "code",
   "execution_count": 20,
   "metadata": {
    "janus": {
     "all_versions_showing": false,
     "cell_hidden": true,
     "current_version": 0,
     "id": "0fc6112c42789",
     "named_versions": [],
     "output_hidden": true,
     "show_versions": false,
     "source_hidden": true,
     "versions": []
    },
    "scrolled": true
   },
   "outputs": [
    {
     "data": {
      "image/png": "[encoded data removed]",
      "text/plain": [
       "<matplotlib.figure.Figure at 0x114d2c278>"
      ]
     },
     "metadata": {},
     "output_type": "display_data"
    }
   ],
   "source": [
    "plot_metric('Los Angeles', 'CA', 'ZRI_AllHomes', df_west_coast_prices)"
   ]
  },
  {
   "cell_type": "code",
   "execution_count": 21,
   "metadata": {
    "janus": {
     "all_versions_showing": false,
     "cell_hidden": true,
     "current_version": 0,
     "id": "dd5a38b758171",
     "named_versions": [],
     "output_hidden": true,
     "show_versions": false,
     "source_hidden": true,
     "versions": []
    }
   },
   "outputs": [
    {
     "data": {
      "image/png": "[encoded data removed]",
      "text/plain": [
       "<matplotlib.figure.Figure at 0x114db0518>"
      ]
     },
     "metadata": {},
     "output_type": "display_data"
    }
   ],
   "source": [
    "plot_metric('San Diego', 'CA', 'ZRI_AllHomes', df_west_coast_prices)"
   ]
  },
  {
   "cell_type": "markdown",
   "metadata": {
    "janus": {
     "all_versions_showing": false,
     "cell_hidden": false,
     "current_version": 0,
     "id": "0e9f54e088f1c",
     "named_versions": [],
     "output_hidden": false,
     "show_versions": false,
     "source_hidden": false,
     "versions": []
    }
   },
   "source": [
    "### Home Prices over Time"
   ]
  },
  {
   "cell_type": "code",
   "execution_count": 22,
   "metadata": {
    "janus": {
     "all_versions_showing": false,
     "cell_hidden": true,
     "current_version": 0,
     "id": "57f920cecad76",
     "named_versions": [],
     "output_hidden": true,
     "show_versions": false,
     "source_hidden": true,
     "versions": []
    },
    "scrolled": true
   },
   "outputs": [
    {
     "data": {
      "image/png": "[encoded data removed]",
      "text/plain": [
       "<matplotlib.figure.Figure at 0x115ce3d68>"
      ]
     },
     "metadata": {},
     "output_type": "display_data"
    }
   ],
   "source": [
    "plot_metric('Seattle', 'WA', 'ZHVI_AllHomes', df_west_coast_prices)"
   ]
  },
  {
   "cell_type": "code",
   "execution_count": 23,
   "metadata": {
    "janus": {
     "all_versions_showing": false,
     "cell_hidden": true,
     "current_version": 0,
     "id": "1954ec148292e",
     "named_versions": [],
     "output_hidden": true,
     "show_versions": false,
     "source_hidden": true,
     "versions": []
    }
   },
   "outputs": [
    {
     "data": {
      "image/png": "[encoded data removed]",
      "text/plain": [
       "<matplotlib.figure.Figure at 0x115ddf358>"
      ]
     },
     "metadata": {},
     "output_type": "display_data"
    }
   ],
   "source": [
    "plot_metric('Portland', 'OR', 'ZHVI_AllHomes', df_west_coast_prices)"
   ]
  },
  {
   "cell_type": "code",
   "execution_count": 24,
   "metadata": {
    "janus": {
     "all_versions_showing": false,
     "cell_hidden": true,
     "current_version": 0,
     "id": "d6922fbabb81a",
     "named_versions": [],
     "output_hidden": true,
     "show_versions": false,
     "source_hidden": true,
     "versions": []
    }
   },
   "outputs": [
    {
     "data": {
      "image/png": "[encoded data removed]",
      "text/plain": [
       "<matplotlib.figure.Figure at 0x115ec2358>"
      ]
     },
     "metadata": {},
     "output_type": "display_data"
    }
   ],
   "source": [
    "plot_metric('San Francisco', 'CA', 'ZHVI_AllHomes', df_west_coast_prices)"
   ]
  },
  {
   "cell_type": "code",
   "execution_count": 25,
   "metadata": {
    "janus": {
     "all_versions_showing": false,
     "cell_hidden": true,
     "current_version": 0,
     "id": "70265c913d174",
     "named_versions": [],
     "output_hidden": true,
     "show_versions": false,
     "source_hidden": true,
     "versions": []
    }
   },
   "outputs": [
    {
     "data": {
      "image/png": "[encoded data removed]",
      "text/plain": [
       "<matplotlib.figure.Figure at 0x115eee048>"
      ]
     },
     "metadata": {},
     "output_type": "display_data"
    }
   ],
   "source": [
    "plot_metric('Los Angeles', 'CA', 'ZHVI_AllHomes', df_west_coast_prices)"
   ]
  },
  {
   "cell_type": "code",
   "execution_count": 26,
   "metadata": {
    "janus": {
     "all_versions_showing": false,
     "cell_hidden": true,
     "current_version": 0,
     "id": "dfafb2e2c551f",
     "named_versions": [],
     "output_hidden": true,
     "show_versions": false,
     "source_hidden": true,
     "versions": []
    },
    "scrolled": true
   },
   "outputs": [
    {
     "data": {
      "image/png": "[encoded data removed]",
      "text/plain": [
       "<matplotlib.figure.Figure at 0x12975a5c0>"
      ]
     },
     "metadata": {},
     "output_type": "display_data"
    }
   ],
   "source": [
    "plot_metric('San Diego', 'CA', 'ZHVI_AllHomes', df_west_coast_prices)"
   ]
  },
  {
   "cell_type": "markdown",
   "metadata": {
    "janus": {
     "all_versions_showing": false,
     "cell_hidden": false,
     "current_version": 0,
     "id": "77deb41e57f76",
     "named_versions": [],
     "output_hidden": false,
     "show_versions": false,
     "source_hidden": false,
     "versions": []
    }
   },
   "source": [
    "### Get Price Changes\n",
    "\n",
    "Now let's see if we can find a coorelation between price changes. Do certain cities act like certain other cities when it comes to how their home and rental prices rise and fall?\n",
    "\n",
    "Let's create two new dataframes, one for Rental prices, and one for Home prices in our five cities."
   ]
  },
  {
   "cell_type": "code",
   "execution_count": 27,
   "metadata": {
    "janus": {
     "all_versions_showing": false,
     "cell_hidden": true,
     "current_version": 0,
     "id": "076236549923a",
     "named_versions": [],
     "output_hidden": true,
     "show_versions": false,
     "source_hidden": true,
     "versions": []
    },
    "scrolled": true
   },
   "outputs": [
    {
     "data": {
      "text/html": [
       "<div>\n",
       "<style>\n",
       "    .dataframe thead tr:only-child th {\n",
       "        text-align: right;\n",
       "    }\n",
       "\n",
       "    .dataframe thead th {\n",
       "        text-align: left;\n",
       "    }\n",
       "\n",
       "    .dataframe tbody tr th {\n",
       "        vertical-align: top;\n",
       "    }\n",
       "</style>\n",
       "<table border=\"1\" class=\"dataframe\">\n",
       "  <thead>\n",
       "    <tr style=\"text-align: right;\">\n",
       "      <th></th>\n",
       "      <th>Date</th>\n",
       "      <th>RegionName</th>\n",
       "      <th>InventorySeasonallyAdjusted_AllHomes</th>\n",
       "      <th>InventoryRaw_AllHomes</th>\n",
       "      <th>MedianListingPricePerSqft_1Bedroom</th>\n",
       "      <th>MedianListingPricePerSqft_2Bedroom</th>\n",
       "      <th>MedianListingPricePerSqft_3Bedroom</th>\n",
       "      <th>MedianListingPricePerSqft_4Bedroom</th>\n",
       "      <th>MedianListingPricePerSqft_5BedroomOrMore</th>\n",
       "      <th>MedianListingPricePerSqft_AllHomes</th>\n",
       "      <th>...</th>\n",
       "      <th>ZHVI_BottomTier</th>\n",
       "      <th>ZHVI_CondoCoop</th>\n",
       "      <th>ZHVI_MiddleTier</th>\n",
       "      <th>ZHVI_SingleFamilyResidence</th>\n",
       "      <th>ZHVI_TopTier</th>\n",
       "      <th>ZRI_AllHomes</th>\n",
       "      <th>ZRI_AllHomesPlusMultifamily</th>\n",
       "      <th>ZriPerSqft_AllHomes</th>\n",
       "      <th>Zri_MultiFamilyResidenceRental</th>\n",
       "      <th>Zri_SingleFamilyResidenceRental</th>\n",
       "    </tr>\n",
       "  </thead>\n",
       "  <tbody>\n",
       "    <tr>\n",
       "      <th>5551</th>\n",
       "      <td>1996-04-30</td>\n",
       "      <td>los_angeleslos_angelesca</td>\n",
       "      <td>NaN</td>\n",
       "      <td>NaN</td>\n",
       "      <td>NaN</td>\n",
       "      <td>NaN</td>\n",
       "      <td>NaN</td>\n",
       "      <td>NaN</td>\n",
       "      <td>NaN</td>\n",
       "      <td>NaN</td>\n",
       "      <td>...</td>\n",
       "      <td>112100.0</td>\n",
       "      <td>132500.0</td>\n",
       "      <td>155000.0</td>\n",
       "      <td>161900.0</td>\n",
       "      <td>306900.0</td>\n",
       "      <td>NaN</td>\n",
       "      <td>NaN</td>\n",
       "      <td>NaN</td>\n",
       "      <td>NaN</td>\n",
       "      <td>NaN</td>\n",
       "    </tr>\n",
       "    <tr>\n",
       "      <th>7899</th>\n",
       "      <td>1996-04-30</td>\n",
       "      <td>portlandmultnomahor</td>\n",
       "      <td>NaN</td>\n",
       "      <td>NaN</td>\n",
       "      <td>NaN</td>\n",
       "      <td>NaN</td>\n",
       "      <td>NaN</td>\n",
       "      <td>NaN</td>\n",
       "      <td>NaN</td>\n",
       "      <td>NaN</td>\n",
       "      <td>...</td>\n",
       "      <td>84900.0</td>\n",
       "      <td>NaN</td>\n",
       "      <td>121100.0</td>\n",
       "      <td>117600.0</td>\n",
       "      <td>182200.0</td>\n",
       "      <td>NaN</td>\n",
       "      <td>NaN</td>\n",
       "      <td>NaN</td>\n",
       "      <td>NaN</td>\n",
       "      <td>NaN</td>\n",
       "    </tr>\n",
       "    <tr>\n",
       "      <th>8647</th>\n",
       "      <td>1996-04-30</td>\n",
       "      <td>san_diegosan_diegoca</td>\n",
       "      <td>NaN</td>\n",
       "      <td>NaN</td>\n",
       "      <td>NaN</td>\n",
       "      <td>NaN</td>\n",
       "      <td>NaN</td>\n",
       "      <td>NaN</td>\n",
       "      <td>NaN</td>\n",
       "      <td>NaN</td>\n",
       "      <td>...</td>\n",
       "      <td>103900.0</td>\n",
       "      <td>123900.0</td>\n",
       "      <td>161100.0</td>\n",
       "      <td>181100.0</td>\n",
       "      <td>268400.0</td>\n",
       "      <td>NaN</td>\n",
       "      <td>NaN</td>\n",
       "      <td>NaN</td>\n",
       "      <td>NaN</td>\n",
       "      <td>NaN</td>\n",
       "    </tr>\n",
       "    <tr>\n",
       "      <th>8650</th>\n",
       "      <td>1996-04-30</td>\n",
       "      <td>san_franciscosan_franciscoca</td>\n",
       "      <td>NaN</td>\n",
       "      <td>NaN</td>\n",
       "      <td>NaN</td>\n",
       "      <td>NaN</td>\n",
       "      <td>NaN</td>\n",
       "      <td>NaN</td>\n",
       "      <td>NaN</td>\n",
       "      <td>NaN</td>\n",
       "      <td>...</td>\n",
       "      <td>191800.0</td>\n",
       "      <td>264600.0</td>\n",
       "      <td>262500.0</td>\n",
       "      <td>261300.0</td>\n",
       "      <td>364900.0</td>\n",
       "      <td>NaN</td>\n",
       "      <td>NaN</td>\n",
       "      <td>NaN</td>\n",
       "      <td>NaN</td>\n",
       "      <td>NaN</td>\n",
       "    </tr>\n",
       "    <tr>\n",
       "      <th>8836</th>\n",
       "      <td>1996-04-30</td>\n",
       "      <td>seattlekingwa</td>\n",
       "      <td>NaN</td>\n",
       "      <td>NaN</td>\n",
       "      <td>NaN</td>\n",
       "      <td>NaN</td>\n",
       "      <td>NaN</td>\n",
       "      <td>NaN</td>\n",
       "      <td>NaN</td>\n",
       "      <td>NaN</td>\n",
       "      <td>...</td>\n",
       "      <td>115100.0</td>\n",
       "      <td>135100.0</td>\n",
       "      <td>164400.0</td>\n",
       "      <td>173400.0</td>\n",
       "      <td>249500.0</td>\n",
       "      <td>NaN</td>\n",
       "      <td>NaN</td>\n",
       "      <td>NaN</td>\n",
       "      <td>NaN</td>\n",
       "      <td>NaN</td>\n",
       "    </tr>\n",
       "  </tbody>\n",
       "</table>\n",
       "<p>5 rows × 81 columns</p>\n",
       "</div>"
      ],
      "text/plain": [
       "           Date                    RegionName  \\\n",
       "5551 1996-04-30      los_angeleslos_angelesca   \n",
       "7899 1996-04-30           portlandmultnomahor   \n",
       "8647 1996-04-30          san_diegosan_diegoca   \n",
       "8650 1996-04-30  san_franciscosan_franciscoca   \n",
       "8836 1996-04-30                 seattlekingwa   \n",
       "\n",
       "      InventorySeasonallyAdjusted_AllHomes  InventoryRaw_AllHomes  \\\n",
       "5551                                   NaN                    NaN   \n",
       "7899                                   NaN                    NaN   \n",
       "8647                                   NaN                    NaN   \n",
       "8650                                   NaN                    NaN   \n",
       "8836                                   NaN                    NaN   \n",
       "\n",
       "      MedianListingPricePerSqft_1Bedroom  MedianListingPricePerSqft_2Bedroom  \\\n",
       "5551                                 NaN                                 NaN   \n",
       "7899                                 NaN                                 NaN   \n",
       "8647                                 NaN                                 NaN   \n",
       "8650                                 NaN                                 NaN   \n",
       "8836                                 NaN                                 NaN   \n",
       "\n",
       "      MedianListingPricePerSqft_3Bedroom  MedianListingPricePerSqft_4Bedroom  \\\n",
       "5551                                 NaN                                 NaN   \n",
       "7899                                 NaN                                 NaN   \n",
       "8647                                 NaN                                 NaN   \n",
       "8650                                 NaN                                 NaN   \n",
       "8836                                 NaN                                 NaN   \n",
       "\n",
       "      MedianListingPricePerSqft_5BedroomOrMore  \\\n",
       "5551                                       NaN   \n",
       "7899                                       NaN   \n",
       "8647                                       NaN   \n",
       "8650                                       NaN   \n",
       "8836                                       NaN   \n",
       "\n",
       "      MedianListingPricePerSqft_AllHomes               ...                 \\\n",
       "5551                                 NaN               ...                  \n",
       "7899                                 NaN               ...                  \n",
       "8647                                 NaN               ...                  \n",
       "8650                                 NaN               ...                  \n",
       "8836                                 NaN               ...                  \n",
       "\n",
       "      ZHVI_BottomTier  ZHVI_CondoCoop  ZHVI_MiddleTier  \\\n",
       "5551         112100.0        132500.0         155000.0   \n",
       "7899          84900.0             NaN         121100.0   \n",
       "8647         103900.0        123900.0         161100.0   \n",
       "8650         191800.0        264600.0         262500.0   \n",
       "8836         115100.0        135100.0         164400.0   \n",
       "\n",
       "      ZHVI_SingleFamilyResidence  ZHVI_TopTier  ZRI_AllHomes  \\\n",
       "5551                    161900.0      306900.0           NaN   \n",
       "7899                    117600.0      182200.0           NaN   \n",
       "8647                    181100.0      268400.0           NaN   \n",
       "8650                    261300.0      364900.0           NaN   \n",
       "8836                    173400.0      249500.0           NaN   \n",
       "\n",
       "      ZRI_AllHomesPlusMultifamily  ZriPerSqft_AllHomes  \\\n",
       "5551                          NaN                  NaN   \n",
       "7899                          NaN                  NaN   \n",
       "8647                          NaN                  NaN   \n",
       "8650                          NaN                  NaN   \n",
       "8836                          NaN                  NaN   \n",
       "\n",
       "      Zri_MultiFamilyResidenceRental  Zri_SingleFamilyResidenceRental  \n",
       "5551                             NaN                              NaN  \n",
       "7899                             NaN                              NaN  \n",
       "8647                             NaN                              NaN  \n",
       "8650                             NaN                              NaN  \n",
       "8836                             NaN                              NaN  \n",
       "\n",
       "[5 rows x 81 columns]"
      ]
     },
     "execution_count": 27,
     "metadata": {},
     "output_type": "execute_result"
    }
   ],
   "source": [
    "df_west_cities_home = df_west_coast_prices[df_west_coast_prices['ZHVI_AllHomes'].isnull() == False]\n",
    "df_west_cities_home.head()"
   ]
  },
  {
   "cell_type": "code",
   "execution_count": 28,
   "metadata": {
    "janus": {
     "all_versions_showing": false,
     "cell_hidden": true,
     "current_version": 0,
     "id": "bfa71b48d71d5",
     "named_versions": [],
     "output_hidden": true,
     "show_versions": false,
     "source_hidden": true,
     "versions": []
    }
   },
   "outputs": [
    {
     "data": {
      "text/html": [
       "<div>\n",
       "<style>\n",
       "    .dataframe thead tr:only-child th {\n",
       "        text-align: right;\n",
       "    }\n",
       "\n",
       "    .dataframe thead th {\n",
       "        text-align: left;\n",
       "    }\n",
       "\n",
       "    .dataframe tbody tr th {\n",
       "        vertical-align: top;\n",
       "    }\n",
       "</style>\n",
       "<table border=\"1\" class=\"dataframe\">\n",
       "  <thead>\n",
       "    <tr style=\"text-align: right;\">\n",
       "      <th></th>\n",
       "      <th>Date</th>\n",
       "      <th>RegionName</th>\n",
       "      <th>InventorySeasonallyAdjusted_AllHomes</th>\n",
       "      <th>InventoryRaw_AllHomes</th>\n",
       "      <th>MedianListingPricePerSqft_1Bedroom</th>\n",
       "      <th>MedianListingPricePerSqft_2Bedroom</th>\n",
       "      <th>MedianListingPricePerSqft_3Bedroom</th>\n",
       "      <th>MedianListingPricePerSqft_4Bedroom</th>\n",
       "      <th>MedianListingPricePerSqft_5BedroomOrMore</th>\n",
       "      <th>MedianListingPricePerSqft_AllHomes</th>\n",
       "      <th>...</th>\n",
       "      <th>ZHVI_BottomTier</th>\n",
       "      <th>ZHVI_CondoCoop</th>\n",
       "      <th>ZHVI_MiddleTier</th>\n",
       "      <th>ZHVI_SingleFamilyResidence</th>\n",
       "      <th>ZHVI_TopTier</th>\n",
       "      <th>ZRI_AllHomes</th>\n",
       "      <th>ZRI_AllHomesPlusMultifamily</th>\n",
       "      <th>ZriPerSqft_AllHomes</th>\n",
       "      <th>Zri_MultiFamilyResidenceRental</th>\n",
       "      <th>Zri_SingleFamilyResidenceRental</th>\n",
       "    </tr>\n",
       "  </thead>\n",
       "  <tbody>\n",
       "    <tr>\n",
       "      <th>2357025</th>\n",
       "      <td>2010-11-30</td>\n",
       "      <td>los_angeleslos_angelesca</td>\n",
       "      <td>11487.0</td>\n",
       "      <td>11733.0</td>\n",
       "      <td>NaN</td>\n",
       "      <td>NaN</td>\n",
       "      <td>NaN</td>\n",
       "      <td>NaN</td>\n",
       "      <td>NaN</td>\n",
       "      <td>NaN</td>\n",
       "      <td>...</td>\n",
       "      <td>258000.0</td>\n",
       "      <td>350300.0</td>\n",
       "      <td>405100.0</td>\n",
       "      <td>424100.0</td>\n",
       "      <td>794300.0</td>\n",
       "      <td>2263.0</td>\n",
       "      <td>2186.0</td>\n",
       "      <td>1.580</td>\n",
       "      <td>1976.0</td>\n",
       "      <td>2306.0</td>\n",
       "    </tr>\n",
       "    <tr>\n",
       "      <th>2360315</th>\n",
       "      <td>2010-11-30</td>\n",
       "      <td>portlandmultnomahor</td>\n",
       "      <td>3521.0</td>\n",
       "      <td>3574.0</td>\n",
       "      <td>256.726037</td>\n",
       "      <td>178.751823</td>\n",
       "      <td>144.367418</td>\n",
       "      <td>149.439462</td>\n",
       "      <td>145.148029</td>\n",
       "      <td>164.495362</td>\n",
       "      <td>...</td>\n",
       "      <td>161300.0</td>\n",
       "      <td>NaN</td>\n",
       "      <td>236600.0</td>\n",
       "      <td>250500.0</td>\n",
       "      <td>386800.0</td>\n",
       "      <td>1282.0</td>\n",
       "      <td>1282.0</td>\n",
       "      <td>1.020</td>\n",
       "      <td>1342.0</td>\n",
       "      <td>1281.0</td>\n",
       "    </tr>\n",
       "    <tr>\n",
       "      <th>2361368</th>\n",
       "      <td>2010-11-30</td>\n",
       "      <td>san_diegosan_diegoca</td>\n",
       "      <td>6357.0</td>\n",
       "      <td>6498.0</td>\n",
       "      <td>NaN</td>\n",
       "      <td>NaN</td>\n",
       "      <td>NaN</td>\n",
       "      <td>267.063542</td>\n",
       "      <td>NaN</td>\n",
       "      <td>NaN</td>\n",
       "      <td>...</td>\n",
       "      <td>236300.0</td>\n",
       "      <td>299100.0</td>\n",
       "      <td>393100.0</td>\n",
       "      <td>443000.0</td>\n",
       "      <td>671400.0</td>\n",
       "      <td>2088.0</td>\n",
       "      <td>2071.0</td>\n",
       "      <td>1.494</td>\n",
       "      <td>1788.0</td>\n",
       "      <td>2234.0</td>\n",
       "    </tr>\n",
       "    <tr>\n",
       "      <th>2361372</th>\n",
       "      <td>2010-11-30</td>\n",
       "      <td>san_franciscosan_franciscoca</td>\n",
       "      <td>NaN</td>\n",
       "      <td>NaN</td>\n",
       "      <td>640.918803</td>\n",
       "      <td>NaN</td>\n",
       "      <td>NaN</td>\n",
       "      <td>NaN</td>\n",
       "      <td>NaN</td>\n",
       "      <td>NaN</td>\n",
       "      <td>...</td>\n",
       "      <td>504600.0</td>\n",
       "      <td>666500.0</td>\n",
       "      <td>696500.0</td>\n",
       "      <td>709600.0</td>\n",
       "      <td>988100.0</td>\n",
       "      <td>3130.0</td>\n",
       "      <td>3189.0</td>\n",
       "      <td>2.504</td>\n",
       "      <td>3192.0</td>\n",
       "      <td>3192.0</td>\n",
       "    </tr>\n",
       "    <tr>\n",
       "      <th>2361619</th>\n",
       "      <td>2010-11-30</td>\n",
       "      <td>seattlekingwa</td>\n",
       "      <td>3377.0</td>\n",
       "      <td>3464.0</td>\n",
       "      <td>358.539765</td>\n",
       "      <td>309.846651</td>\n",
       "      <td>250.000000</td>\n",
       "      <td>230.259366</td>\n",
       "      <td>206.552215</td>\n",
       "      <td>266.797130</td>\n",
       "      <td>...</td>\n",
       "      <td>249300.0</td>\n",
       "      <td>281000.0</td>\n",
       "      <td>366700.0</td>\n",
       "      <td>402700.0</td>\n",
       "      <td>583600.0</td>\n",
       "      <td>1769.0</td>\n",
       "      <td>1748.0</td>\n",
       "      <td>1.264</td>\n",
       "      <td>1478.0</td>\n",
       "      <td>1861.0</td>\n",
       "    </tr>\n",
       "  </tbody>\n",
       "</table>\n",
       "<p>5 rows × 81 columns</p>\n",
       "</div>"
      ],
      "text/plain": [
       "              Date                    RegionName  \\\n",
       "2357025 2010-11-30      los_angeleslos_angelesca   \n",
       "2360315 2010-11-30           portlandmultnomahor   \n",
       "2361368 2010-11-30          san_diegosan_diegoca   \n",
       "2361372 2010-11-30  san_franciscosan_franciscoca   \n",
       "2361619 2010-11-30                 seattlekingwa   \n",
       "\n",
       "         InventorySeasonallyAdjusted_AllHomes  InventoryRaw_AllHomes  \\\n",
       "2357025                               11487.0                11733.0   \n",
       "2360315                                3521.0                 3574.0   \n",
       "2361368                                6357.0                 6498.0   \n",
       "2361372                                   NaN                    NaN   \n",
       "2361619                                3377.0                 3464.0   \n",
       "\n",
       "         MedianListingPricePerSqft_1Bedroom  \\\n",
       "2357025                                 NaN   \n",
       "2360315                          256.726037   \n",
       "2361368                                 NaN   \n",
       "2361372                          640.918803   \n",
       "2361619                          358.539765   \n",
       "\n",
       "         MedianListingPricePerSqft_2Bedroom  \\\n",
       "2357025                                 NaN   \n",
       "2360315                          178.751823   \n",
       "2361368                                 NaN   \n",
       "2361372                                 NaN   \n",
       "2361619                          309.846651   \n",
       "\n",
       "         MedianListingPricePerSqft_3Bedroom  \\\n",
       "2357025                                 NaN   \n",
       "2360315                          144.367418   \n",
       "2361368                                 NaN   \n",
       "2361372                                 NaN   \n",
       "2361619                          250.000000   \n",
       "\n",
       "         MedianListingPricePerSqft_4Bedroom  \\\n",
       "2357025                                 NaN   \n",
       "2360315                          149.439462   \n",
       "2361368                          267.063542   \n",
       "2361372                                 NaN   \n",
       "2361619                          230.259366   \n",
       "\n",
       "         MedianListingPricePerSqft_5BedroomOrMore  \\\n",
       "2357025                                       NaN   \n",
       "2360315                                145.148029   \n",
       "2361368                                       NaN   \n",
       "2361372                                       NaN   \n",
       "2361619                                206.552215   \n",
       "\n",
       "         MedianListingPricePerSqft_AllHomes               ...                 \\\n",
       "2357025                                 NaN               ...                  \n",
       "2360315                          164.495362               ...                  \n",
       "2361368                                 NaN               ...                  \n",
       "2361372                                 NaN               ...                  \n",
       "2361619                          266.797130               ...                  \n",
       "\n",
       "         ZHVI_BottomTier  ZHVI_CondoCoop  ZHVI_MiddleTier  \\\n",
       "2357025         258000.0        350300.0         405100.0   \n",
       "2360315         161300.0             NaN         236600.0   \n",
       "2361368         236300.0        299100.0         393100.0   \n",
       "2361372         504600.0        666500.0         696500.0   \n",
       "2361619         249300.0        281000.0         366700.0   \n",
       "\n",
       "         ZHVI_SingleFamilyResidence  ZHVI_TopTier  ZRI_AllHomes  \\\n",
       "2357025                    424100.0      794300.0        2263.0   \n",
       "2360315                    250500.0      386800.0        1282.0   \n",
       "2361368                    443000.0      671400.0        2088.0   \n",
       "2361372                    709600.0      988100.0        3130.0   \n",
       "2361619                    402700.0      583600.0        1769.0   \n",
       "\n",
       "         ZRI_AllHomesPlusMultifamily  ZriPerSqft_AllHomes  \\\n",
       "2357025                       2186.0                1.580   \n",
       "2360315                       1282.0                1.020   \n",
       "2361368                       2071.0                1.494   \n",
       "2361372                       3189.0                2.504   \n",
       "2361619                       1748.0                1.264   \n",
       "\n",
       "         Zri_MultiFamilyResidenceRental  Zri_SingleFamilyResidenceRental  \n",
       "2357025                          1976.0                           2306.0  \n",
       "2360315                          1342.0                           1281.0  \n",
       "2361368                          1788.0                           2234.0  \n",
       "2361372                          3192.0                           3192.0  \n",
       "2361619                          1478.0                           1861.0  \n",
       "\n",
       "[5 rows x 81 columns]"
      ]
     },
     "execution_count": 28,
     "metadata": {},
     "output_type": "execute_result"
    }
   ],
   "source": [
    "df_west_cities_rental = df_west_coast_prices[df_west_coast_prices['ZRI_AllHomes'].isnull() == False]\n",
    "df_west_cities_rental.head()"
   ]
  },
  {
   "cell_type": "markdown",
   "metadata": {
    "janus": {
     "all_versions_showing": false,
     "cell_hidden": false,
     "current_version": 0,
     "id": "7f7ee42abad0a",
     "named_versions": [],
     "output_hidden": false,
     "show_versions": false,
     "source_hidden": false,
     "versions": []
    }
   },
   "source": [
    "Now we can calculate the % change in Rental and Housing prices over time. Both will be how much prices change in a month. We only have rental data from 2010, but we have house price data  back to 1996."
   ]
  },
  {
   "cell_type": "code",
   "execution_count": 29,
   "metadata": {
    "collapsed": true,
    "janus": {
     "all_versions_showing": false,
     "cell_hidden": true,
     "current_version": 0,
     "id": "0462fd6535634",
     "named_versions": [],
     "output_hidden": true,
     "show_versions": false,
     "source_hidden": true,
     "versions": []
    }
   },
   "outputs": [],
   "source": [
    "def get_pct_change(city, state, variable, df):\n",
    "    city_id = get_city_id(city, state)\n",
    "    df_c = df[df['RegionName'] == city_id]\n",
    "    change = df_c[variable].pct_change()\n",
    "    df_change = pd.concat([df_c['Date'], change], axis = 1)\n",
    "    df_change.columns = ['Date', city]\n",
    "    return df_change"
   ]
  },
  {
   "cell_type": "code",
   "execution_count": 30,
   "metadata": {
    "collapsed": true,
    "janus": {
     "all_versions_showing": false,
     "cell_hidden": true,
     "current_version": 0,
     "id": "307e9884f5c3d",
     "named_versions": [],
     "output_hidden": true,
     "show_versions": false,
     "source_hidden": true,
     "versions": []
    }
   },
   "outputs": [],
   "source": [
    "seattle_home_change = get_pct_change('Seattle', 'WA', 'ZHVI_AllHomes', df_west_cities_home)\n",
    "portland_home_change = get_pct_change('Portland', 'OR', 'ZHVI_AllHomes', df_west_cities_home)\n",
    "sf_home_change = get_pct_change('San Francisco', 'CA', 'ZHVI_AllHomes', df_west_cities_home)\n",
    "la_home_change = get_pct_change('Los Angeles', 'CA', 'ZHVI_AllHomes', df_west_cities_home)\n",
    "sd_home_change = get_pct_change('San Diego', 'CA', 'ZHVI_AllHomes', df_west_cities_home)\n",
    "\n",
    "df_home_change = pd.merge(pd.DataFrame(seattle_home_change), portland_home_change, on = 'Date', how = 'left')\n",
    "df_home_change = df_home_change.merge(sf_home_change, on='Date')\n",
    "df_home_change = df_home_change.merge(la_home_change, on='Date')\n",
    "df_home_change = df_home_change.merge(sd_home_change, on='Date')"
   ]
  },
  {
   "cell_type": "code",
   "execution_count": 31,
   "metadata": {
    "janus": {
     "all_versions_showing": false,
     "cell_hidden": true,
     "current_version": 0,
     "id": "b0a84eee90743",
     "named_versions": [],
     "output_hidden": true,
     "show_versions": false,
     "source_hidden": true,
     "versions": []
    }
   },
   "outputs": [
    {
     "data": {
      "text/html": [
       "<div>\n",
       "<style>\n",
       "    .dataframe thead tr:only-child th {\n",
       "        text-align: right;\n",
       "    }\n",
       "\n",
       "    .dataframe thead th {\n",
       "        text-align: left;\n",
       "    }\n",
       "\n",
       "    .dataframe tbody tr th {\n",
       "        vertical-align: top;\n",
       "    }\n",
       "</style>\n",
       "<table border=\"1\" class=\"dataframe\">\n",
       "  <thead>\n",
       "    <tr style=\"text-align: right;\">\n",
       "      <th></th>\n",
       "      <th>Date</th>\n",
       "      <th>Seattle</th>\n",
       "      <th>Portland</th>\n",
       "      <th>San Francisco</th>\n",
       "      <th>Los Angeles</th>\n",
       "      <th>San Diego</th>\n",
       "    </tr>\n",
       "  </thead>\n",
       "  <tbody>\n",
       "    <tr>\n",
       "      <th>0</th>\n",
       "      <td>1996-04-30</td>\n",
       "      <td>NaN</td>\n",
       "      <td>NaN</td>\n",
       "      <td>NaN</td>\n",
       "      <td>NaN</td>\n",
       "      <td>NaN</td>\n",
       "    </tr>\n",
       "    <tr>\n",
       "      <th>1</th>\n",
       "      <td>1996-05-31</td>\n",
       "      <td>-0.003041</td>\n",
       "      <td>0.009083</td>\n",
       "      <td>0.003810</td>\n",
       "      <td>-0.002581</td>\n",
       "      <td>-0.002483</td>\n",
       "    </tr>\n",
       "    <tr>\n",
       "      <th>2</th>\n",
       "      <td>1996-06-30</td>\n",
       "      <td>-0.001830</td>\n",
       "      <td>0.006547</td>\n",
       "      <td>0.002277</td>\n",
       "      <td>-0.001294</td>\n",
       "      <td>-0.001867</td>\n",
       "    </tr>\n",
       "    <tr>\n",
       "      <th>3</th>\n",
       "      <td>1996-07-31</td>\n",
       "      <td>-0.001222</td>\n",
       "      <td>0.004878</td>\n",
       "      <td>0.003408</td>\n",
       "      <td>-0.001295</td>\n",
       "      <td>-0.001870</td>\n",
       "    </tr>\n",
       "    <tr>\n",
       "      <th>4</th>\n",
       "      <td>1996-08-31</td>\n",
       "      <td>0.001224</td>\n",
       "      <td>0.005663</td>\n",
       "      <td>0.004906</td>\n",
       "      <td>-0.000649</td>\n",
       "      <td>-0.003123</td>\n",
       "    </tr>\n",
       "  </tbody>\n",
       "</table>\n",
       "</div>"
      ],
      "text/plain": [
       "        Date   Seattle  Portland  San Francisco  Los Angeles  San Diego\n",
       "0 1996-04-30       NaN       NaN            NaN          NaN        NaN\n",
       "1 1996-05-31 -0.003041  0.009083       0.003810    -0.002581  -0.002483\n",
       "2 1996-06-30 -0.001830  0.006547       0.002277    -0.001294  -0.001867\n",
       "3 1996-07-31 -0.001222  0.004878       0.003408    -0.001295  -0.001870\n",
       "4 1996-08-31  0.001224  0.005663       0.004906    -0.000649  -0.003123"
      ]
     },
     "execution_count": 31,
     "metadata": {},
     "output_type": "execute_result"
    }
   ],
   "source": [
    "df_home_change.head()"
   ]
  },
  {
   "cell_type": "code",
   "execution_count": 32,
   "metadata": {
    "collapsed": true,
    "janus": {
     "all_versions_showing": false,
     "cell_hidden": true,
     "current_version": 0,
     "id": "dd1bfcd34cce9",
     "named_versions": [],
     "output_hidden": true,
     "show_versions": false,
     "source_hidden": true,
     "versions": []
    }
   },
   "outputs": [],
   "source": [
    "seattle_rental_change = get_pct_change('Seattle', 'WA', 'ZRI_AllHomes', df_west_cities_rental)\n",
    "portland_rental_change = get_pct_change('Portland', 'OR', 'ZRI_AllHomes', df_west_cities_rental)\n",
    "sf_rental_change = get_pct_change('San Francisco', 'CA', 'ZRI_AllHomes', df_west_cities_rental)\n",
    "la_rental_change = get_pct_change('Los Angeles', 'CA', 'ZRI_AllHomes', df_west_cities_rental)\n",
    "sd_rental_change = get_pct_change('San Diego', 'CA', 'ZRI_AllHomes', df_west_cities_rental)\n",
    "\n",
    "df_rental_change = pd.merge(pd.DataFrame(seattle_rental_change), portland_rental_change, on = 'Date', how = 'left')\n",
    "df_rental_change = df_rental_change.merge(sf_rental_change, on='Date')\n",
    "df_rental_change = df_rental_change.merge(la_rental_change, on='Date')\n",
    "df_rental_change = df_rental_change.merge(sd_rental_change, on='Date')"
   ]
  },
  {
   "cell_type": "code",
   "execution_count": 33,
   "metadata": {
    "janus": {
     "all_versions_showing": false,
     "cell_hidden": true,
     "current_version": 0,
     "id": "cc0a76cdd5028",
     "named_versions": [],
     "output_hidden": true,
     "show_versions": false,
     "source_hidden": true,
     "versions": []
    },
    "scrolled": true
   },
   "outputs": [
    {
     "data": {
      "text/html": [
       "<div>\n",
       "<style>\n",
       "    .dataframe thead tr:only-child th {\n",
       "        text-align: right;\n",
       "    }\n",
       "\n",
       "    .dataframe thead th {\n",
       "        text-align: left;\n",
       "    }\n",
       "\n",
       "    .dataframe tbody tr th {\n",
       "        vertical-align: top;\n",
       "    }\n",
       "</style>\n",
       "<table border=\"1\" class=\"dataframe\">\n",
       "  <thead>\n",
       "    <tr style=\"text-align: right;\">\n",
       "      <th></th>\n",
       "      <th>Date</th>\n",
       "      <th>Seattle</th>\n",
       "      <th>Portland</th>\n",
       "      <th>San Francisco</th>\n",
       "      <th>Los Angeles</th>\n",
       "      <th>San Diego</th>\n",
       "    </tr>\n",
       "  </thead>\n",
       "  <tbody>\n",
       "    <tr>\n",
       "      <th>0</th>\n",
       "      <td>2010-11-30</td>\n",
       "      <td>NaN</td>\n",
       "      <td>NaN</td>\n",
       "      <td>NaN</td>\n",
       "      <td>NaN</td>\n",
       "      <td>NaN</td>\n",
       "    </tr>\n",
       "    <tr>\n",
       "      <th>1</th>\n",
       "      <td>2010-12-31</td>\n",
       "      <td>0.000565</td>\n",
       "      <td>0.004680</td>\n",
       "      <td>-0.000958</td>\n",
       "      <td>-0.003535</td>\n",
       "      <td>-0.002395</td>\n",
       "    </tr>\n",
       "    <tr>\n",
       "      <th>2</th>\n",
       "      <td>2011-01-31</td>\n",
       "      <td>0.000000</td>\n",
       "      <td>0.005435</td>\n",
       "      <td>-0.007035</td>\n",
       "      <td>0.000443</td>\n",
       "      <td>-0.005281</td>\n",
       "    </tr>\n",
       "    <tr>\n",
       "      <th>3</th>\n",
       "      <td>2011-02-28</td>\n",
       "      <td>0.001130</td>\n",
       "      <td>0.006178</td>\n",
       "      <td>-0.019646</td>\n",
       "      <td>0.001330</td>\n",
       "      <td>-0.005309</td>\n",
       "    </tr>\n",
       "    <tr>\n",
       "      <th>4</th>\n",
       "      <td>2011-03-31</td>\n",
       "      <td>-0.000564</td>\n",
       "      <td>0.003070</td>\n",
       "      <td>-0.028252</td>\n",
       "      <td>-0.000443</td>\n",
       "      <td>-0.001941</td>\n",
       "    </tr>\n",
       "  </tbody>\n",
       "</table>\n",
       "</div>"
      ],
      "text/plain": [
       "        Date   Seattle  Portland  San Francisco  Los Angeles  San Diego\n",
       "0 2010-11-30       NaN       NaN            NaN          NaN        NaN\n",
       "1 2010-12-31  0.000565  0.004680      -0.000958    -0.003535  -0.002395\n",
       "2 2011-01-31  0.000000  0.005435      -0.007035     0.000443  -0.005281\n",
       "3 2011-02-28  0.001130  0.006178      -0.019646     0.001330  -0.005309\n",
       "4 2011-03-31 -0.000564  0.003070      -0.028252    -0.000443  -0.001941"
      ]
     },
     "execution_count": 33,
     "metadata": {},
     "output_type": "execute_result"
    }
   ],
   "source": [
    "df_rental_change.head()"
   ]
  },
  {
   "cell_type": "markdown",
   "metadata": {
    "janus": {
     "all_versions_showing": false,
     "cell_hidden": false,
     "current_version": 0,
     "id": "d43c390876fa6",
     "named_versions": [],
     "output_hidden": false,
     "show_versions": false,
     "source_hidden": false,
     "versions": []
    }
   },
   "source": [
    "### Coorelate price changes\n",
    "\n",
    "Now let's see which cities had a strong coorelation in housing price rise and fall."
   ]
  },
  {
   "cell_type": "code",
   "execution_count": 34,
   "metadata": {
    "janus": {
     "all_versions_showing": false,
     "cell_hidden": false,
     "current_version": 0,
     "id": "4451765e87e4a",
     "named_versions": [],
     "output_hidden": false,
     "show_versions": false,
     "source_hidden": true,
     "versions": []
    },
    "scrolled": false
   },
   "outputs": [
    {
     "data": {
      "text/plain": [
       "<matplotlib.axes._subplots.AxesSubplot at 0x1298a7860>"
      ]
     },
     "execution_count": 34,
     "metadata": {},
     "output_type": "execute_result"
    },
    {
     "data": {
      "image/png": "[encoded data removed]",
      "text/plain": [
       "<matplotlib.figure.Figure at 0x12988a898>"
      ]
     },
     "metadata": {},
     "output_type": "display_data"
    }
   ],
   "source": [
    "home_corr = df_home_change.corr()\n",
    "sns.heatmap(home_corr)"
   ]
  },
  {
   "cell_type": "code",
   "execution_count": 35,
   "metadata": {
    "janus": {
     "all_versions_showing": false,
     "cell_hidden": false,
     "current_version": 0,
     "id": "7754d3bcddafd",
     "named_versions": [],
     "output_hidden": false,
     "show_versions": false,
     "source_hidden": true,
     "versions": []
    }
   },
   "outputs": [
    {
     "data": {
      "text/plain": [
       "<matplotlib.axes._subplots.AxesSubplot at 0x115de4a90>"
      ]
     },
     "execution_count": 35,
     "metadata": {},
     "output_type": "execute_result"
    },
    {
     "data": {
      "image/png": "[encoded data removed]",
      "text/plain": [
       "<matplotlib.figure.Figure at 0x115cd2898>"
      ]
     },
     "metadata": {},
     "output_type": "display_data"
    }
   ],
   "source": [
    "rental_corr = df_rental_change.corr()\n",
    "sns.heatmap(rental_corr)"
   ]
  },
  {
   "cell_type": "markdown",
   "metadata": {
    "janus": {
     "all_versions_showing": false,
     "cell_hidden": false,
     "current_version": 0,
     "id": "4302326d9fff6",
     "named_versions": [],
     "output_hidden": false,
     "show_versions": false,
     "source_hidden": false,
     "versions": []
    }
   },
   "source": [
    "Overall it looks like Home Prices are much more coorelated than Rental Prices. Unsurprisingly, San Diego and Los Angeles have very similar markets, but surprisingly, Seattle and Portland do not."
   ]
  },
  {
   "cell_type": "markdown",
   "metadata": {
    "janus": {
     "all_versions_showing": false,
     "cell_hidden": false,
     "current_version": 0,
     "id": "9b0a4363f5e2f",
     "named_versions": [],
     "output_hidden": false,
     "show_versions": false,
     "source_hidden": false,
     "versions": []
    }
   },
   "source": [
    "### Next Steps\n",
    "I would appreciate if you could do the following as quickly as possible:\n",
    "1. Get the unique name / id that the data uses for San Jose, CA\n",
    "2. Plot Rental prices and Home prices for San Jose, CA\n",
    "3. Coorelate changes in San Jose Rental and Home prices with those in the five other major West Coast cities."
   ]
  },
  {
   "cell_type": "code",
   "execution_count": null,
   "metadata": {
    "collapsed": true,
    "janus": {
     "all_versions_showing": false,
     "cell_hidden": false,
     "current_version": 0,
     "id": "b207d101559f9",
     "named_versions": [],
     "output_hidden": false,
     "show_versions": false,
     "source_hidden": false,
     "versions": []
    }
   },
   "outputs": [],
   "source": []
  }
 ],
 "metadata": {
  "janus": {
   "filepaths": [
    [
     "f9b93a9c",
     1518053542818,
     1518053542818
    ],
    [
     "9897f12b",
     1518053557567,
     1518454628213
    ],
    [
     "de836524",
     1518456406033,
     1518471436075
    ]
   ],
   "janus_markers": [
    {
     "ids": [
      "4518df10c9faa",
      "c4603ae0970cb",
      "1b6dab3ec27cb",
      "f26269a1a0384",
      "83d096dfe7659"
     ],
     "markerName": "Imports + Load Data"
    },
    {
     "ids": [
      "06d5d5ac41471",
      "40376c3c439ac"
     ],
     "markerName": "How many cities are in CA, OR, WA?"
    },
    {
     "ids": [
      "f61cc4a42239",
      "a794b6340411d"
     ],
     "markerName": "Get name / id for major West Coast cities"
    },
    {
     "ids": [
      "3c807e12dbef8",
      "d79f43c510f7f",
      "0e1c9c0cee431"
     ],
     "markerName": "Filter data to only major West Coast cities"
    },
    {
     "ids": [
      "ced9566149d95",
      "4059dee6a8c85",
      "afec039f498bf",
      "c4211cb78fc1c",
      "31a54b2da00d2",
      "93d1f8e4481ed"
     ],
     "markerName": "Select variables to compare (ZHVI and ZRI)"
    },
    {
     "ids": [
      "2673ca0a2ef53"
     ],
     "markerName": "General Plotting Code"
    },
    {
     "ids": [
      "e6ea9729499a8",
      "af84b6cb439f3",
      "5af86f45c1d2f",
      "0fc6112c42789",
      "dd5a38b758171"
     ],
     "markerName": "Rental Prices Plots"
    },
    {
     "ids": [
      "57f920cecad76",
      "1954ec148292e",
      "d6922fbabb81a",
      "70265c913d174",
      "dfafb2e2c551f"
     ],
     "markerName": "Home Prices Plots"
    },
    {
     "ids": [
      "076236549923a",
      "bfa71b48d71d5"
     ],
     "markerName": "Create dfs for Rental and Home prices"
    },
    {
     "ids": [
      "0462fd6535634",
      "307e9884f5c3d",
      "b0a84eee90743",
      "dd1bfcd34cce9",
      "cc0a76cdd5028"
     ],
     "markerName": "Get percent change in Rental and Home prices"
    }
   ],
   "track_history": true
  },
  "kernelspec": {
   "display_name": "Python 3",
   "language": "python",
   "name": "python3"
  },
  "language_info": {
   "codemirror_mode": {
    "name": "ipython",
    "version": 3
   },
   "file_extension": ".py",
   "mimetype": "text/x-python",
   "name": "python",
   "nbconvert_exporter": "python",
   "pygments_lexer": "ipython3",
   "version": "3.6.3"
  }
 },
 "nbformat": 4,
 "nbformat_minor": 2
}
