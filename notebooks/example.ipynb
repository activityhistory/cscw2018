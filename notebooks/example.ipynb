{
 "cells": [
  {
   "cell_type": "markdown",
   "metadata": {
    "cell_hidden": false,
    "hide_input": false,
    "janus": {
     "all_versions_showing": false,
     "cell_hidden": false,
     "cell_id": "f3e5e1a885ce4",
     "current_version": 0,
     "id": "2fc3df5824f11",
     "named_versions": [],
     "ouput_hidden": false,
     "ouputs_hidden": false,
     "output_hidden": false,
     "show_versions": false,
     "source_hidden": false,
     "track_versions": false,
     "versions": [],
     "versions_showing": false
    },
    "janus_cell_id": "5341c5f600bbc",
    "versions_showing": false
   },
   "source": [
    "# Fit Data"
   ]
  },
  {
   "cell_type": "code",
   "execution_count": 1,
   "metadata": {
    "cell_hidden": true,
    "collapsed": true,
    "hide_input": false,
    "janus": {
     "all_versions_showing": false,
     "cell_hidden": false,
     "cell_id": "acf2041833843",
     "current_version": 0,
     "id": "a653b9e10cfa",
     "named_versions": [],
     "ouput_hidden": false,
     "ouputs_hidden": false,
     "output_hidden": false,
     "show_versions": false,
     "source_hidden": false,
     "track_versions": false,
     "versions": [],
     "versions_showing": false
    }
   },
   "outputs": [],
   "source": [
    "import numpy as np\n",
    "import matplotlib.pyplot as plt\n",
    "%matplotlib inline"
   ]
  },
  {
   "cell_type": "code",
   "execution_count": 2,
   "metadata": {
    "cell_hidden": true,
    "collapsed": true,
    "hide_input": false,
    "janus": {
     "all_versions_showing": false,
     "cell_hidden": false,
     "cell_id": "98ea6d3a4c24b",
     "current_version": 0,
     "id": "2ffdcf6a17136",
     "named_versions": [],
     "ouput_hidden": false,
     "ouputs_hidden": false,
     "output_hidden": false,
     "show_versions": false,
     "source_hidden": false,
     "track_versions": false,
     "versions": [],
     "versions_showing": false
    }
   },
   "outputs": [],
   "source": [
    "x = np.array([10.00, 8.00, 10.00, 9.00, 11.00, \n",
    "              14.00, 6.00, 4.00, 12.00, 7.00])\n",
    "y = np.array([9.14, 8.34, 9.14, 8.07, 9.26,\n",
    "              8.40, 6.13, 3.30, 9.13, 7.56])"
   ]
  },
  {
   "cell_type": "code",
   "execution_count": 3,
   "metadata": {
    "cell_hidden": false,
    "hide_input": true,
    "janus": {
     "all_versions_showing": false,
     "cell_hidden": false,
     "cell_id": "ef3f51f43f3f9",
     "current_version": 1,
     "id": "0032b50bfe6ae",
     "named_versions": [],
     "ouput_hidden": false,
     "ouputs_hidden": false,
     "output_hidden": false,
     "show_versions": false,
     "source_hidden": false,
     "track_versions": true,
     "versions": [
      {
       "cell_id": "0032b50bfe6ae",
       "content": {
        "cell_type": "code",
        "execution_count": 3,
        "metadata": {
         "cell_hidden": false,
         "hide_input": true,
         "janus": {
          "all_versions_showing": false,
          "cell_hidden": false,
          "cell_id": "ef3f51f43f3f9",
          "current_version": 1,
          "id": "0032b50bfe6ae",
          "named_versions": [
           {
            "cell_id": "0032b50bfe6ae",
            "content": {
             "cell_type": "code",
             "execution_count": 3,
             "metadata": {
              "cell_hidden": false,
              "hide_input": true,
              "janus": {
               "all_versions_showing": false,
               "cell_hidden": false,
               "cell_id": "ef3f51f43f3f9",
               "current_version": 1,
               "id": "0032b50bfe6ae",
               "named_versions": [],
               "ouput_hidden": false,
               "ouputs_hidden": false,
               "output_hidden": false,
               "show_versions": false,
               "source_hidden": true,
               "track_versions": true,
               "versions": [],
               "versions_showing": false
              },
              "scrolled": false,
              "trusted": true
             },
             "outputs": [
              {
               "data": {
                "text/plain": "[<matplotlib.lines.Line2D at 0x10dd2ee10>,\n <matplotlib.lines.Line2D at 0x1111b0d68>]"
               },
               "execution_count": 3,
               "metadata": {},
               "output_type": "execute_result"
              },
              {
               "data": {
                "image/png": "iVBORw0KGgoAAAANSUhEUgAAAW4AAAD8CAYAAABXe05zAAAABHNCSVQICAgIfAhkiAAAAAlwSFlz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\n8/8B0KZz0qUjjykAAAAASUVORK5CYII=\n",
                "text/plain": "<matplotlib.figure.Figure at 0x10769b2b0>"
               },
               "metadata": {},
               "output_type": "display_data"
              }
             ],
             "source": "p = np.poly1d(np.polyfit(x,y,2))\nxp = np.linspace(4, 13, 100)\n\nplt.plot(x, y, '.', xp, p(xp), '-')"
            },
            "name": "good fit",
            "version_id": "de93058c"
           },
           {
            "cell_id": "0032b50bfe6ae",
            "content": {
             "cell_type": "code",
             "execution_count": null,
             "metadata": {
              "cell_hidden": false,
              "hide_input": true,
              "janus": {
               "all_versions_showing": false,
               "cell_hidden": false,
               "cell_id": "ef3f51f43f3f9",
               "current_version": 1,
               "id": "0032b50bfe6ae",
               "named_versions": [],
               "ouput_hidden": false,
               "ouputs_hidden": false,
               "output_hidden": false,
               "show_versions": false,
               "source_hidden": true,
               "track_versions": true,
               "versions": [],
               "versions_showing": false
              },
              "scrolled": false,
              "trusted": true
             },
             "outputs": [
              {
               "data": {
                "text/plain": "[<matplotlib.lines.Line2D at 0x110569390>,\n <matplotlib.lines.Line2D at 0x110569518>]"
               },
               "execution_count": 6,
               "metadata": {},
               "output_type": "execute_result"
              },
              {
               "data": {
                "image/png": "iVBORw0KGgoAAAANSUhEUgAAAW4AAAD8CAYAAABXe05zAAAABHNCSVQICAgIfAhkiAAAAAlwSFlz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\nAAAAAElFTkSuQmCC\n",
                "text/plain": "<matplotlib.figure.Figure at 0x10d1e37f0>"
               },
               "metadata": {},
               "output_type": "display_data"
              }
             ],
             "source": "p = np.poly1d(np.polyfit(x,y,6))\nxp = np.linspace(4, 13, 100)\n\nplt.plot(x, y, '.', xp, p(xp), '-')"
            },
            "name": "poor fit",
            "version_id": "3b19b01a"
           }
          ],
          "ouput_hidden": false,
          "ouputs_hidden": false,
          "output_hidden": false,
          "show_versions": false,
          "source_hidden": false,
          "track_versions": true,
          "versions": [
           {
            "cell_id": "0032b50bfe6ae",
            "content": {
             "cell_type": "code",
             "execution_count": null,
             "metadata": {
              "cell_hidden": false,
              "hide_input": true,
              "janus": {
               "all_versions_showing": false,
               "cell_hidden": false,
               "cell_id": "ef3f51f43f3f9",
               "current_version": 1,
               "id": "0032b50bfe6ae",
               "named_versions": [
                {
                 "cell_id": "0032b50bfe6ae",
                 "content": {
                  "cell_type": "code",
                  "execution_count": 3,
                  "metadata": {
                   "cell_hidden": false,
                   "hide_input": true,
                   "janus": {
                    "all_versions_showing": false,
                    "cell_hidden": false,
                    "cell_id": "ef3f51f43f3f9",
                    "current_version": 1,
                    "id": "0032b50bfe6ae",
                    "named_versions": [],
                    "ouput_hidden": false,
                    "ouputs_hidden": false,
                    "output_hidden": false,
                    "show_versions": false,
                    "source_hidden": true,
                    "track_versions": true,
                    "versions": [],
                    "versions_showing": false
                   },
                   "scrolled": false,
                   "trusted": true
                  },
                  "outputs": [
                   {
                    "data": {
                     "text/plain": "[<matplotlib.lines.Line2D at 0x10dd2ee10>,\n <matplotlib.lines.Line2D at 0x1111b0d68>]"
                    },
                    "execution_count": 3,
                    "metadata": {},
                    "output_type": "execute_result"
                   },
                   {
                    "data": {
                     "image/png": "iVBORw0KGgoAAAANSUhEUgAAAW4AAAD8CAYAAABXe05zAAAABHNCSVQICAgIfAhkiAAAAAlwSFlz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\n8/8B0KZz0qUjjykAAAAASUVORK5CYII=\n",
                     "text/plain": "<matplotlib.figure.Figure at 0x10769b2b0>"
                    },
                    "metadata": {},
                    "output_type": "display_data"
                   }
                  ],
                  "source": "p = np.poly1d(np.polyfit(x,y,2))\nxp = np.linspace(4, 13, 100)\n\nplt.plot(x, y, '.', xp, p(xp), '-')"
                 },
                 "name": "good fit",
                 "version_id": "de93058c"
                },
                {
                 "cell_id": "0032b50bfe6ae",
                 "content": {
                  "cell_type": "code",
                  "execution_count": null,
                  "metadata": {
                   "cell_hidden": false,
                   "hide_input": true,
                   "janus": {
                    "all_versions_showing": false,
                    "cell_hidden": false,
                    "cell_id": "ef3f51f43f3f9",
                    "current_version": 1,
                    "id": "0032b50bfe6ae",
                    "named_versions": [],
                    "ouput_hidden": false,
                    "ouputs_hidden": false,
                    "output_hidden": false,
                    "show_versions": false,
                    "source_hidden": true,
                    "track_versions": true,
                    "versions": [],
                    "versions_showing": false
                   },
                   "scrolled": false,
                   "trusted": true
                  },
                  "outputs": [
                   {
                    "data": {
                     "text/plain": "[<matplotlib.lines.Line2D at 0x110569390>,\n <matplotlib.lines.Line2D at 0x110569518>]"
                    },
                    "execution_count": 6,
                    "metadata": {},
                    "output_type": "execute_result"
                   },
                   {
                    "data": {
                     "image/png": "iVBORw0KGgoAAAANSUhEUgAAAW4AAAD8CAYAAABXe05zAAAABHNCSVQICAgIfAhkiAAAAAlwSFlz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\nAAAAAElFTkSuQmCC\n",
                     "text/plain": "<matplotlib.figure.Figure at 0x10d1e37f0>"
                    },
                    "metadata": {},
                    "output_type": "display_data"
                   }
                  ],
                  "source": "p = np.poly1d(np.polyfit(x,y,6))\nxp = np.linspace(4, 13, 100)\n\nplt.plot(x, y, '.', xp, p(xp), '-')"
                 },
                 "name": "poor fit",
                 "version_id": "3b19b01a"
                }
               ],
               "ouput_hidden": false,
               "ouputs_hidden": false,
               "output_hidden": false,
               "show_versions": true,
               "source_hidden": false,
               "track_versions": true,
               "versions": [
                {
                 "cell_id": "0032b50bfe6ae",
                 "content": {
                  "cell_type": "code",
                  "execution_count": null,
                  "metadata": {
                   "cell_hidden": false,
                   "hide_input": true,
                   "janus": {
                    "all_versions_showing": false,
                    "cell_hidden": false,
                    "cell_id": "ef3f51f43f3f9",
                    "current_version": 1,
                    "id": "0032b50bfe6ae",
                    "named_versions": [],
                    "ouput_hidden": false,
                    "ouputs_hidden": false,
                    "output_hidden": false,
                    "show_versions": false,
                    "source_hidden": true,
                    "track_versions": true,
                    "versions": [],
                    "versions_showing": false
                   },
                   "scrolled": false,
                   "trusted": true
                  },
                  "outputs": [
                   {
                    "data": {
                     "text/plain": "[<matplotlib.lines.Line2D at 0x110569390>,\n <matplotlib.lines.Line2D at 0x110569518>]"
                    },
                    "execution_count": 6,
                    "metadata": {},
                    "output_type": "execute_result"
                   },
                   {
                    "data": {
                     "image/png": "iVBORw0KGgoAAAANSUhEUgAAAW4AAAD8CAYAAABXe05zAAAABHNCSVQICAgIfAhkiAAAAAlwSFlz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\nAAAAAElFTkSuQmCC\n",
                     "text/plain": "<matplotlib.figure.Figure at 0x10d1e37f0>"
                    },
                    "metadata": {},
                    "output_type": "display_data"
                   }
                  ],
                  "source": "p = np.poly1d(np.polyfit(x,y,6))\nxp = np.linspace(4, 13, 100)\n\nplt.plot(x, y, '.', xp, p(xp), '-')"
                 },
                 "name": "poor fit",
                 "version_id": "3b19b01a"
                },
                {
                 "cell_id": "0032b50bfe6ae",
                 "content": {
                  "cell_type": "code",
                  "execution_count": 3,
                  "metadata": {
                   "cell_hidden": false,
                   "hide_input": true,
                   "janus": {
                    "all_versions_showing": false,
                    "cell_hidden": false,
                    "cell_id": "ef3f51f43f3f9",
                    "current_version": 1,
                    "id": "0032b50bfe6ae",
                    "named_versions": [],
                    "ouput_hidden": false,
                    "ouputs_hidden": false,
                    "output_hidden": false,
                    "show_versions": false,
                    "source_hidden": true,
                    "track_versions": true,
                    "versions": [],
                    "versions_showing": false
                   },
                   "scrolled": false,
                   "trusted": true
                  },
                  "outputs": [
                   {
                    "data": {
                     "text/plain": "[<matplotlib.lines.Line2D at 0x10dd2ee10>,\n <matplotlib.lines.Line2D at 0x1111b0d68>]"
                    },
                    "execution_count": 3,
                    "metadata": {},
                    "output_type": "execute_result"
                   },
                   {
                    "data": {
                     "image/png": "iVBORw0KGgoAAAANSUhEUgAAAW4AAAD8CAYAAABXe05zAAAABHNCSVQICAgIfAhkiAAAAAlwSFlz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\n8/8B0KZz0qUjjykAAAAASUVORK5CYII=\n",
                     "text/plain": "<matplotlib.figure.Figure at 0x10769b2b0>"
                    },
                    "metadata": {},
                    "output_type": "display_data"
                   }
                  ],
                  "source": "p = np.poly1d(np.polyfit(x,y,2))\nxp = np.linspace(4, 13, 100)\n\nplt.plot(x, y, '.', xp, p(xp), '-')"
                 },
                 "name": "good fit",
                 "version_id": "de93058c"
                },
                {
                 "cell_id": "0032b50bfe6ae",
                 "content": {
                  "cell_type": "code",
                  "execution_count": null,
                  "metadata": {
                   "cell_hidden": false,
                   "hide_input": true,
                   "janus": {
                    "all_versions_showing": false,
                    "cell_hidden": false,
                    "cell_id": "ef3f51f43f3f9",
                    "current_version": 1,
                    "id": "0032b50bfe6ae",
                    "named_versions": [],
                    "ouput_hidden": false,
                    "ouputs_hidden": false,
                    "output_hidden": false,
                    "show_versions": false,
                    "source_hidden": true,
                    "track_versions": true,
                    "versions": [],
                    "versions_showing": false
                   },
                   "scrolled": false,
                   "trusted": true
                  },
                  "outputs": [
                   {
                    "ename": "NameError",
                    "evalue": "name 'x' is not defined",
                    "output_type": "error",
                    "traceback": [
                     "\u001b[0;31m---------------------------------------------------------------------------\u001b[0m",
                     "\u001b[0;31mNameError\u001b[0m                                 Traceback (most recent call last)",
                     "\u001b[0;32m<ipython-input-3-9614201671cc>\u001b[0m in \u001b[0;36m<module>\u001b[0;34m()\u001b[0m\n\u001b[0;32m----> 1\u001b[0;31m \u001b[0mp\u001b[0m \u001b[0;34m=\u001b[0m \u001b[0mnp\u001b[0m\u001b[0;34m.\u001b[0m\u001b[0mpoly1d\u001b[0m\u001b[0;34m(\u001b[0m\u001b[0mnp\u001b[0m\u001b[0;34m.\u001b[0m\u001b[0mpolyfit\u001b[0m\u001b[0;34m(\u001b[0m\u001b[0mx\u001b[0m\u001b[0;34m,\u001b[0m\u001b[0my\u001b[0m\u001b[0;34m,\u001b[0m\u001b[0;36m6\u001b[0m\u001b[0;34m)\u001b[0m\u001b[0;34m)\u001b[0m\u001b[0;34m\u001b[0m\u001b[0m\n\u001b[0m\u001b[1;32m      2\u001b[0m \u001b[0mxp\u001b[0m \u001b[0;34m=\u001b[0m \u001b[0mnp\u001b[0m\u001b[0;34m.\u001b[0m\u001b[0mlinspace\u001b[0m\u001b[0;34m(\u001b[0m\u001b[0;36m4\u001b[0m\u001b[0;34m,\u001b[0m \u001b[0;36m13\u001b[0m\u001b[0;34m,\u001b[0m \u001b[0;36m100\u001b[0m\u001b[0;34m)\u001b[0m\u001b[0;34m\u001b[0m\u001b[0m\n\u001b[1;32m      3\u001b[0m \u001b[0;34m\u001b[0m\u001b[0m\n\u001b[1;32m      4\u001b[0m \u001b[0mplt\u001b[0m\u001b[0;34m.\u001b[0m\u001b[0mplot\u001b[0m\u001b[0;34m(\u001b[0m\u001b[0mx\u001b[0m\u001b[0;34m,\u001b[0m \u001b[0my\u001b[0m\u001b[0;34m,\u001b[0m \u001b[0;34m'.'\u001b[0m\u001b[0;34m,\u001b[0m \u001b[0mxp\u001b[0m\u001b[0;34m,\u001b[0m \u001b[0mp\u001b[0m\u001b[0;34m(\u001b[0m\u001b[0mxp\u001b[0m\u001b[0;34m)\u001b[0m\u001b[0;34m,\u001b[0m \u001b[0;34m'-'\u001b[0m\u001b[0;34m)\u001b[0m\u001b[0;34m\u001b[0m\u001b[0m\n",
                     "\u001b[0;31mNameError\u001b[0m: name 'x' is not defined"
                    ]
                   }
                  ],
                  "source": "p = np.poly1d(np.polyfit(x,y,6))\nxp = np.linspace(4, 13, 100)\n\nplt.plot(x, y, '.', xp, p(xp), '-')"
                 },
                 "name": "",
                 "version_id": "f24df3b4"
                }
               ],
               "versions_showing": false
              },
              "scrolled": false,
              "trusted": true
             },
             "outputs": [],
             "source": "p = np.poly1d(np.polyfit(x,y,1))\nxp = np.linspace(4, 13, 100)\n\nplt.plot(x, y, '.', xp, p(xp), '-')"
            },
            "name": "",
            "version_id": ""
           },
           {
            "cell_id": "0032b50bfe6ae",
            "content": {
             "cell_type": "code",
             "execution_count": null,
             "metadata": {
              "cell_hidden": false,
              "hide_input": true,
              "janus": {
               "all_versions_showing": false,
               "cell_hidden": false,
               "cell_id": "ef3f51f43f3f9",
               "current_version": 1,
               "id": "0032b50bfe6ae",
               "named_versions": [],
               "ouput_hidden": false,
               "ouputs_hidden": false,
               "output_hidden": false,
               "show_versions": false,
               "source_hidden": true,
               "track_versions": true,
               "versions": [],
               "versions_showing": false
              },
              "scrolled": false,
              "trusted": true
             },
             "outputs": [
              {
               "data": {
                "text/plain": "[<matplotlib.lines.Line2D at 0x110569390>,\n <matplotlib.lines.Line2D at 0x110569518>]"
               },
               "execution_count": 6,
               "metadata": {},
               "output_type": "execute_result"
              },
              {
               "data": {
                "image/png": "iVBORw0KGgoAAAANSUhEUgAAAW4AAAD8CAYAAABXe05zAAAABHNCSVQICAgIfAhkiAAAAAlwSFlz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\nAAAAAElFTkSuQmCC\n",
                "text/plain": "<matplotlib.figure.Figure at 0x10d1e37f0>"
               },
               "metadata": {},
               "output_type": "display_data"
              }
             ],
             "source": "p = np.poly1d(np.polyfit(x,y,6))\nxp = np.linspace(4, 13, 100)\n\nplt.plot(x, y, '.', xp, p(xp), '-')"
            },
            "name": "poor fit",
            "version_id": "3b19b01a"
           },
           {
            "cell_id": "0032b50bfe6ae",
            "content": {
             "cell_type": "code",
             "execution_count": 3,
             "metadata": {
              "cell_hidden": false,
              "hide_input": true,
              "janus": {
               "all_versions_showing": false,
               "cell_hidden": false,
               "cell_id": "ef3f51f43f3f9",
               "current_version": 1,
               "id": "0032b50bfe6ae",
               "named_versions": [],
               "ouput_hidden": false,
               "ouputs_hidden": false,
               "output_hidden": false,
               "show_versions": false,
               "source_hidden": true,
               "track_versions": true,
               "versions": [],
               "versions_showing": false
              },
              "scrolled": false,
              "trusted": true
             },
             "outputs": [
              {
               "data": {
                "text/plain": "[<matplotlib.lines.Line2D at 0x10dd2ee10>,\n <matplotlib.lines.Line2D at 0x1111b0d68>]"
               },
               "execution_count": 3,
               "metadata": {},
               "output_type": "execute_result"
              },
              {
               "data": {
                "image/png": "iVBORw0KGgoAAAANSUhEUgAAAW4AAAD8CAYAAABXe05zAAAABHNCSVQICAgIfAhkiAAAAAlwSFlz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\n8/8B0KZz0qUjjykAAAAASUVORK5CYII=\n",
                "text/plain": "<matplotlib.figure.Figure at 0x10769b2b0>"
               },
               "metadata": {},
               "output_type": "display_data"
              }
             ],
             "source": "p = np.poly1d(np.polyfit(x,y,2))\nxp = np.linspace(4, 13, 100)\n\nplt.plot(x, y, '.', xp, p(xp), '-')"
            },
            "name": "good fit",
            "version_id": "de93058c"
           },
           {
            "cell_id": "0032b50bfe6ae",
            "content": {
             "cell_type": "code",
             "execution_count": null,
             "metadata": {
              "cell_hidden": false,
              "hide_input": true,
              "janus": {
               "all_versions_showing": false,
               "cell_hidden": false,
               "cell_id": "ef3f51f43f3f9",
               "current_version": 1,
               "id": "0032b50bfe6ae",
               "named_versions": [],
               "ouput_hidden": false,
               "ouputs_hidden": false,
               "output_hidden": false,
               "show_versions": false,
               "source_hidden": true,
               "track_versions": true,
               "versions": [],
               "versions_showing": false
              },
              "scrolled": false,
              "trusted": true
             },
             "outputs": [
              {
               "ename": "NameError",
               "evalue": "name 'x' is not defined",
               "output_type": "error",
               "traceback": [
                "\u001b[0;31m---------------------------------------------------------------------------\u001b[0m",
                "\u001b[0;31mNameError\u001b[0m                                 Traceback (most recent call last)",
                "\u001b[0;32m<ipython-input-3-9614201671cc>\u001b[0m in \u001b[0;36m<module>\u001b[0;34m()\u001b[0m\n\u001b[0;32m----> 1\u001b[0;31m \u001b[0mp\u001b[0m \u001b[0;34m=\u001b[0m \u001b[0mnp\u001b[0m\u001b[0;34m.\u001b[0m\u001b[0mpoly1d\u001b[0m\u001b[0;34m(\u001b[0m\u001b[0mnp\u001b[0m\u001b[0;34m.\u001b[0m\u001b[0mpolyfit\u001b[0m\u001b[0;34m(\u001b[0m\u001b[0mx\u001b[0m\u001b[0;34m,\u001b[0m\u001b[0my\u001b[0m\u001b[0;34m,\u001b[0m\u001b[0;36m6\u001b[0m\u001b[0;34m)\u001b[0m\u001b[0;34m)\u001b[0m\u001b[0;34m\u001b[0m\u001b[0m\n\u001b[0m\u001b[1;32m      2\u001b[0m \u001b[0mxp\u001b[0m \u001b[0;34m=\u001b[0m \u001b[0mnp\u001b[0m\u001b[0;34m.\u001b[0m\u001b[0mlinspace\u001b[0m\u001b[0;34m(\u001b[0m\u001b[0;36m4\u001b[0m\u001b[0;34m,\u001b[0m \u001b[0;36m13\u001b[0m\u001b[0;34m,\u001b[0m \u001b[0;36m100\u001b[0m\u001b[0;34m)\u001b[0m\u001b[0;34m\u001b[0m\u001b[0m\n\u001b[1;32m      3\u001b[0m \u001b[0;34m\u001b[0m\u001b[0m\n\u001b[1;32m      4\u001b[0m \u001b[0mplt\u001b[0m\u001b[0;34m.\u001b[0m\u001b[0mplot\u001b[0m\u001b[0;34m(\u001b[0m\u001b[0mx\u001b[0m\u001b[0;34m,\u001b[0m \u001b[0my\u001b[0m\u001b[0;34m,\u001b[0m \u001b[0;34m'.'\u001b[0m\u001b[0;34m,\u001b[0m \u001b[0mxp\u001b[0m\u001b[0;34m,\u001b[0m \u001b[0mp\u001b[0m\u001b[0;34m(\u001b[0m\u001b[0mxp\u001b[0m\u001b[0;34m)\u001b[0m\u001b[0;34m,\u001b[0m \u001b[0;34m'-'\u001b[0m\u001b[0;34m)\u001b[0m\u001b[0;34m\u001b[0m\u001b[0m\n",
                "\u001b[0;31mNameError\u001b[0m: name 'x' is not defined"
               ]
              }
             ],
             "source": "p = np.poly1d(np.polyfit(x,y,6))\nxp = np.linspace(4, 13, 100)\n\nplt.plot(x, y, '.', xp, p(xp), '-')"
            },
            "name": "",
            "version_id": "f24df3b4"
           }
          ],
          "versions_showing": false
         },
         "scrolled": false,
         "trusted": true
        },
        "outputs": [
         {
          "data": {
           "text/plain": "[<matplotlib.lines.Line2D at 0x1120baa20>,\n <matplotlib.lines.Line2D at 0x1120baba8>]"
          },
          "execution_count": 3,
          "metadata": {},
          "output_type": "execute_result"
         },
         {
          "data": {
           "image/png": "iVBORw0KGgoAAAANSUhEUgAAAXQAAAD8CAYAAABn919SAAAABHNCSVQICAgIfAhkiAAAAAlwSFlz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\nMaFCFxGJCRW6iEhM/D/XeiB/ZRPYhwAAAABJRU5ErkJggg==\n",
           "text/plain": "<matplotlib.figure.Figure at 0x10ecbd8d0>"
          },
          "metadata": {},
          "output_type": "display_data"
         }
        ],
        "source": "p = np.poly1d(np.polyfit(x,y,1))\nxp = np.linspace(4, 13, 100)\n\nplt.plot(x, y, '.', xp, p(xp), '-')"
       },
       "name": "",
       "version_id": ""
      },
      {
       "cell_id": "0032b50bfe6ae",
       "content": {
        "cell_type": "code",
        "execution_count": null,
        "metadata": {
         "cell_hidden": false,
         "hide_input": true,
         "janus": {
          "all_versions_showing": false,
          "cell_hidden": false,
          "cell_id": "ef3f51f43f3f9",
          "current_version": 1,
          "id": "0032b50bfe6ae",
          "named_versions": [],
          "ouput_hidden": false,
          "ouputs_hidden": false,
          "output_hidden": false,
          "show_versions": false,
          "source_hidden": true,
          "track_versions": true,
          "versions": [],
          "versions_showing": false
         },
         "scrolled": false,
         "trusted": true
        },
        "outputs": [
         {
          "data": {
           "text/plain": "[<matplotlib.lines.Line2D at 0x110569390>,\n <matplotlib.lines.Line2D at 0x110569518>]"
          },
          "execution_count": 6,
          "metadata": {},
          "output_type": "execute_result"
         },
         {
          "data": {
           "image/png": "iVBORw0KGgoAAAANSUhEUgAAAW4AAAD8CAYAAABXe05zAAAABHNCSVQICAgIfAhkiAAAAAlwSFlz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\nAAAAAElFTkSuQmCC\n",
           "text/plain": "<matplotlib.figure.Figure at 0x10d1e37f0>"
          },
          "metadata": {},
          "output_type": "display_data"
         }
        ],
        "source": "p = np.poly1d(np.polyfit(x,y,6))\nxp = np.linspace(4, 13, 100)\n\nplt.plot(x, y, '.', xp, p(xp), '-')"
       },
       "name": "poor fit",
       "version_id": "3b19b01a"
      },
      {
       "cell_id": "0032b50bfe6ae",
       "content": {
        "cell_type": "code",
        "execution_count": 3,
        "metadata": {
         "cell_hidden": false,
         "hide_input": true,
         "janus": {
          "all_versions_showing": false,
          "cell_hidden": false,
          "cell_id": "ef3f51f43f3f9",
          "current_version": 1,
          "id": "0032b50bfe6ae",
          "named_versions": [],
          "ouput_hidden": false,
          "ouputs_hidden": false,
          "output_hidden": false,
          "show_versions": false,
          "source_hidden": true,
          "track_versions": true,
          "versions": [],
          "versions_showing": false
         },
         "scrolled": false,
         "trusted": true
        },
        "outputs": [
         {
          "data": {
           "text/plain": "[<matplotlib.lines.Line2D at 0x10dd2ee10>,\n <matplotlib.lines.Line2D at 0x1111b0d68>]"
          },
          "execution_count": 3,
          "metadata": {},
          "output_type": "execute_result"
         },
         {
          "data": {
           "image/png": "iVBORw0KGgoAAAANSUhEUgAAAW4AAAD8CAYAAABXe05zAAAABHNCSVQICAgIfAhkiAAAAAlwSFlz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\n8/8B0KZz0qUjjykAAAAASUVORK5CYII=\n",
           "text/plain": "<matplotlib.figure.Figure at 0x10769b2b0>"
          },
          "metadata": {},
          "output_type": "display_data"
         }
        ],
        "source": "p = np.poly1d(np.polyfit(x,y,2))\nxp = np.linspace(4, 13, 100)\n\nplt.plot(x, y, '.', xp, p(xp), '-')"
       },
       "name": "good fit",
       "version_id": "de93058c"
      },
      {
       "cell_id": "0032b50bfe6ae",
       "content": {
        "cell_type": "code",
        "execution_count": null,
        "metadata": {
         "cell_hidden": false,
         "hide_input": true,
         "janus": {
          "all_versions_showing": false,
          "cell_hidden": false,
          "cell_id": "ef3f51f43f3f9",
          "current_version": 1,
          "id": "0032b50bfe6ae",
          "named_versions": [],
          "ouput_hidden": false,
          "ouputs_hidden": false,
          "output_hidden": false,
          "show_versions": false,
          "source_hidden": true,
          "track_versions": true,
          "versions": [],
          "versions_showing": false
         },
         "scrolled": false,
         "trusted": true
        },
        "outputs": [
         {
          "ename": "NameError",
          "evalue": "name 'x' is not defined",
          "output_type": "error",
          "traceback": [
           "\u001b[0;31m---------------------------------------------------------------------------\u001b[0m",
           "\u001b[0;31mNameError\u001b[0m                                 Traceback (most recent call last)",
           "\u001b[0;32m<ipython-input-3-9614201671cc>\u001b[0m in \u001b[0;36m<module>\u001b[0;34m()\u001b[0m\n\u001b[0;32m----> 1\u001b[0;31m \u001b[0mp\u001b[0m \u001b[0;34m=\u001b[0m \u001b[0mnp\u001b[0m\u001b[0;34m.\u001b[0m\u001b[0mpoly1d\u001b[0m\u001b[0;34m(\u001b[0m\u001b[0mnp\u001b[0m\u001b[0;34m.\u001b[0m\u001b[0mpolyfit\u001b[0m\u001b[0;34m(\u001b[0m\u001b[0mx\u001b[0m\u001b[0;34m,\u001b[0m\u001b[0my\u001b[0m\u001b[0;34m,\u001b[0m\u001b[0;36m6\u001b[0m\u001b[0;34m)\u001b[0m\u001b[0;34m)\u001b[0m\u001b[0;34m\u001b[0m\u001b[0m\n\u001b[0m\u001b[1;32m      2\u001b[0m \u001b[0mxp\u001b[0m \u001b[0;34m=\u001b[0m \u001b[0mnp\u001b[0m\u001b[0;34m.\u001b[0m\u001b[0mlinspace\u001b[0m\u001b[0;34m(\u001b[0m\u001b[0;36m4\u001b[0m\u001b[0;34m,\u001b[0m \u001b[0;36m13\u001b[0m\u001b[0;34m,\u001b[0m \u001b[0;36m100\u001b[0m\u001b[0;34m)\u001b[0m\u001b[0;34m\u001b[0m\u001b[0m\n\u001b[1;32m      3\u001b[0m \u001b[0;34m\u001b[0m\u001b[0m\n\u001b[1;32m      4\u001b[0m \u001b[0mplt\u001b[0m\u001b[0;34m.\u001b[0m\u001b[0mplot\u001b[0m\u001b[0;34m(\u001b[0m\u001b[0mx\u001b[0m\u001b[0;34m,\u001b[0m \u001b[0my\u001b[0m\u001b[0;34m,\u001b[0m \u001b[0;34m'.'\u001b[0m\u001b[0;34m,\u001b[0m \u001b[0mxp\u001b[0m\u001b[0;34m,\u001b[0m \u001b[0mp\u001b[0m\u001b[0;34m(\u001b[0m\u001b[0mxp\u001b[0m\u001b[0;34m)\u001b[0m\u001b[0;34m,\u001b[0m \u001b[0;34m'-'\u001b[0m\u001b[0;34m)\u001b[0m\u001b[0;34m\u001b[0m\u001b[0m\n",
           "\u001b[0;31mNameError\u001b[0m: name 'x' is not defined"
          ]
         }
        ],
        "source": "p = np.poly1d(np.polyfit(x,y,6))\nxp = np.linspace(4, 13, 100)\n\nplt.plot(x, y, '.', xp, p(xp), '-')"
       },
       "name": "",
       "version_id": "f24df3b4"
      }
     ],
     "versions_showing": false
    },
    "scrolled": false
   },
   "outputs": [
    {
     "data": {
      "text/plain": [
       "[<matplotlib.lines.Line2D at 0x1120baa20>,\n",
       " <matplotlib.lines.Line2D at 0x1120baba8>]"
      ]
     },
     "execution_count": 3,
     "metadata": {},
     "output_type": "execute_result"
    },
    {
     "data": {
      "image/png": "[encoded data removed]",
      "text/plain": [
       "<matplotlib.figure.Figure at 0x10ecbd8d0>"
      ]
     },
     "metadata": {},
     "output_type": "display_data"
    }
   ],
   "source": [
    "p = np.poly1d(np.polyfit(x,y,1))\n",
    "xp = np.linspace(4, 13, 100)\n",
    "\n",
    "plt.plot(x, y, '.', xp, p(xp), '-')"
   ]
  },
  {
   "cell_type": "code",
   "execution_count": null,
   "metadata": {
    "collapsed": true,
    "janus": {
     "all_versions_showing": false,
     "cell_hidden": false,
     "current_version": 0,
     "id": "13bd926ab8ff3",
     "named_versions": [],
     "ouput_hidden": false,
     "output_hidden": false,
     "show_versions": false,
     "source_hidden": false,
     "versions": [],
     "versions_showing": false
    }
   },
   "outputs": [],
   "source": []
  }
 ],
 "metadata": {
  "filepaths": [
   [
    "6b4f71f0",
    1516896875636,
    1517101990882
   ]
  ],
  "janus": {
   "filepaths": [
    [
     "6b4f71f0",
     1518036074032,
     1518455503065
    ],
    [
     "70f196c6",
     1518456167350,
     1518456167350
    ]
   ],
   "janus_markers": [],
   "track_history": true
  },
  "janus_markers": [
   {
    "ids": [
     "a653b9e10cfa",
     "2ffdcf6a17136"
    ],
    "markerName": "Imports + Data"
   }
  ],
  "kernelspec": {
   "display_name": "Python 3",
   "language": "python",
   "name": "python3"
  },
  "language_info": {
   "codemirror_mode": {
    "name": "ipython",
    "version": 3
   },
   "file_extension": ".py",
   "mimetype": "text/x-python",
   "name": "python",
   "nbconvert_exporter": "python",
   "pygments_lexer": "ipython3",
   "version": "3.6.3"
  },
  "track_history": true,
  "unexecutedCells": []
 },
 "nbformat": 4,
 "nbformat_minor": 2
}
